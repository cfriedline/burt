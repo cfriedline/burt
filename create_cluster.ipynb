{
 "cells": [
  {
   "cell_type": "code",
   "execution_count": 0,
   "metadata": {
    "ExecuteTime": {},
    "collapsed": true
   },
   "outputs": [],
   "source": [
    "import os\n",
    "import time"
   ]
  },
  {
   "cell_type": "code",
   "execution_count": 0,
   "metadata": {
    "ExecuteTime": {},
    "collapsed": true
   },
   "outputs": [],
   "source": [
    "qhost = !qhost | grep godel"
   ]
  },
  {
   "cell_type": "code",
   "execution_count": 0,
   "metadata": {
    "ExecuteTime": {},
    "collapsed": false
   },
   "outputs": [],
   "source": [
    "procs_per_host = 4"
   ]
  },
  {
   "cell_type": "code",
   "execution_count": 0,
   "metadata": {
    "ExecuteTime": {},
    "collapsed": false
   },
   "outputs": [],
   "source": [
    "hosts = []\n",
    "cpus = {}\n",
    "for q in qhost:\n",
    "    q = q.split()\n",
    "    mem = float(q[4][:-1])\n",
    "    host = q[0]\n",
    "    if mem > 60:\n",
    "        hosts.append(host)\n",
    "        cpus[host] = int(q[2])"
   ]
  },
  {
   "cell_type": "code",
   "execution_count": 0,
   "metadata": {
    "ExecuteTime": {},
    "collapsed": false
   },
   "outputs": [],
   "source": [
    "def write_numfile(f, n):\n",
    "    with open(f, \"w\") as o:\n",
    "        for i in range(n):\n",
    "            o.write(\"{}\\n\".format(i))\n",
    "            \n",
    "            \n",
    "def write_qsub_file(host, cpu):\n",
    "    cpu= int(cpu*.7)\n",
    "    if cpu > 20:\n",
    "        cpu = 20\n",
    "        \n",
    "    cpu = 10\n",
    "    numfile = \"/home/cfriedline/ipython/num{}\".format(cpu)\n",
    "    if not os.path.exists(numfile):\n",
    "        write_numfile(numfile, cpu)\n",
    "        \n",
    "    cmd = \"\"\"#!/bin/bash\n",
    "#$ -cwd\n",
    "#$ -V\n",
    "#$ -N eng\n",
    "#$ -q *@{0}\n",
    "#$ -pe smp 1\n",
    "#$ -e {0}.err\n",
    "#$ -o {0}.out\n",
    "#$ -S /bin/bash\n",
    "source /home/cfriedline/anaconda/bin/activate py34\n",
    "/home/cfriedline/bin/parallel -j {1} --delay 2 ipengine --profile=sge :::: /home/cfriedline/ipython/num{1}\n",
    "\"\"\".format(host, cpu)\n",
    "    \n",
    "    with open(\"qsub_{}.sh\".format(host), \"w\") as o:\n",
    "        o.write(\"{}\\n\".format(cmd))\n",
    "    !chmod +x {o.name}\n",
    "    return o.name\n",
    "\n",
    "scripts = []\n",
    "!rm qsub*.sh\n",
    "!rm godel*.err\n",
    "!rm godel*.out\n",
    "for h in hosts:\n",
    "    if h != 'godel96'\n",
    "    scripts.append(write_qsub_file(h, cpus[h]))"
   ]
  },
  {
   "cell_type": "code",
   "execution_count": 0,
   "metadata": {
    "ExecuteTime": {},
    "collapsed": false
   },
   "outputs": [],
   "source": [
    "len(scripts)"
   ]
  },
  {
   "cell_type": "code",
   "execution_count": 0,
   "metadata": {
    "ExecuteTime": {},
    "collapsed": false,
    "scrolled": false
   },
   "outputs": [],
   "source": [
    "for s in scripts:\n",
    "    !qsub $s\n",
    "    time.sleep(0.5)"
   ]
  },
  {
   "cell_type": "code",
   "execution_count": 0,
   "metadata": {
    "collapsed": true
   },
   "outputs": [],
   "source": []
  }
 ],
 "metadata": {
  "kernelspec": {
   "display_name": "Python 3",
   "language": "python",
   "name": "python3"
  },
  "language_info": {
   "codemirror_mode": {
    "name": "ipython",
    "version": 3
   },
   "file_extension": ".py",
   "mimetype": "text/x-python",
   "name": "python",
   "nbconvert_exporter": "python",
   "pygments_lexer": "ipython3",
   "version": "3.4.4"
  }
 },
 "nbformat": 4,
 "nbformat_minor": 0
}

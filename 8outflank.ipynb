{
 "cells": [
  {
   "cell_type": "code",
   "execution_count": 0,
   "metadata": {
    "ExecuteTime": {},
    "collapsed": false
   },
   "outputs": [],
   "source": [
    "import scandir\n",
    "import os, sys\n",
    "import rpy2\n",
    "from rpy2.robjects import pandas2ri\n",
    "pandas2ri.activate()\n",
    "import rpy2.robjects as ro\n",
    "import pandas as pd\n",
    "import matplotlib.pyplot as plt\n",
    "%matplotlib inline\n",
    "import seaborn as sns\n",
    "import numpy as np\n",
    "import dill\n",
    "import random\n",
    "import vcf\n",
    "import statsmodels.api as sm\n",
    "import statsmodels.formula.api as smf\n",
    "import operator\n",
    "import traceback\n",
    "%load_ext rpy2.ipython\n",
    "from rpy2.robjects import pandas2ri as p2r\n",
    "p2r.activate()\n",
    "r = ro.r\n",
    "import shutil\n",
    "from utils import read_df, save_df\n",
    "from pathlib import Path, PurePath\n",
    "from ipyparallel import Client\n",
    "from collections import Counter, defaultdict, namedtuple, OrderedDict\n",
    "from scipy.stats import mannwhitneyu, ks_2samp, f_oneway\n",
    "import tables\n",
    "import ujson\n",
    "import pickle\n",
    "from rpy2.robjects import pandas2ri\n",
    "pandas2ri.activate()\n",
    "from IPython.display import display"
   ]
  },
  {
   "cell_type": "code",
   "execution_count": 0,
   "metadata": {
    "ExecuteTime": {},
    "collapsed": true
   },
   "outputs": [],
   "source": [
    "analysis_dir = \"/gpfs_fs/home/eckertlab/projects/burt/seq/dedupe/work/samtools1.3\""
   ]
  },
  {
   "cell_type": "code",
   "execution_count": 0,
   "metadata": {
    "ExecuteTime": {},
    "collapsed": true
   },
   "outputs": [],
   "source": [
    "spp = [\"E\", \"G\", \"P\", \"T\"]"
   ]
  },
  {
   "cell_type": "code",
   "execution_count": 0,
   "metadata": {
    "ExecuteTime": {},
    "collapsed": false
   },
   "outputs": [],
   "source": [
    "z12_df = {}\n",
    "for s in spp:\n",
    "    d = os.path.join(analysis_dir, s)\n",
    "    print(d)\n",
    "    if not \"beagle\" in d:\n",
    "        z12_df[d] = read_df(d, \"z12_swapped\")"
   ]
  },
  {
   "cell_type": "code",
   "execution_count": 0,
   "metadata": {
    "ExecuteTime": {},
    "collapsed": false
   },
   "outputs": [],
   "source": [
    "z12_df['/gpfs_fs/home/eckertlab/projects/burt/seq/dedupe/work/samtools1.3/E'].head()"
   ]
  },
  {
   "cell_type": "code",
   "execution_count": 0,
   "metadata": {
    "ExecuteTime": {},
    "collapsed": false
   },
   "outputs": [],
   "source": [
    "for k in z12_df:\n",
    "    v = z12_df[k]\n",
    "    v['population'] = v.apply(lambda x: \"-\".join(x.name.split(\"-\")[0:-1]), axis=1)\n",
    "    v = v.replace(-1, 9)\n",
    "    z12_df[k] = v"
   ]
  },
  {
   "cell_type": "code",
   "execution_count": 0,
   "metadata": {
    "collapsed": true
   },
   "outputs": [],
   "source": []
  },
  {
   "cell_type": "code",
   "execution_count": 0,
   "metadata": {
    "ExecuteTime": {},
    "collapsed": true
   },
   "outputs": [],
   "source": [
    "snpmat = {}\n",
    "for k in z12_df:\n",
    "    snpmat[k] = z12_df[k].ix[:,:-1]"
   ]
  },
  {
   "cell_type": "code",
   "execution_count": 0,
   "metadata": {
    "ExecuteTime": {},
    "collapsed": true
   },
   "outputs": [],
   "source": [
    "locus_names = {}\n",
    "for k in z12_df:\n",
    "    locus_names[k] = z12_df[k].columns[:-1]"
   ]
  },
  {
   "cell_type": "code",
   "execution_count": 0,
   "metadata": {
    "ExecuteTime": {},
    "collapsed": true
   },
   "outputs": [],
   "source": [
    "pop_names = {}\n",
    "for k in z12_df:\n",
    "    pop_names[k] = z12_df[k]['population']"
   ]
  },
  {
   "cell_type": "code",
   "execution_count": 0,
   "metadata": {
    "ExecuteTime": {},
    "collapsed": false
   },
   "outputs": [],
   "source": [
    "for k in snpmat:\n",
    "    print(k)\n",
    "    s = snpmat[k]\n",
    "    l = pd.Series(locus_names[k])\n",
    "    p = pd.Series(pop_names[k])\n",
    "    s.to_csv(os.path.join(k, \"snpmat\"), sep=\"\\t\", header=False, index=False)\n",
    "    l.to_csv(os.path.join(k, \"locus_names\"), sep=\"\\t\", header=False, index=False)\n",
    "    p.to_csv(os.path.join(k, \"pop_names\"), sep=\"\\t\", header=False, index=False)\n",
    "    "
   ]
  },
  {
   "cell_type": "code",
   "execution_count": 0,
   "metadata": {
    "ExecuteTime": {},
    "collapsed": false
   },
   "outputs": [],
   "source": [
    "%%R\n",
    "library(OutFLANK)\n",
    "library(data.table)"
   ]
  },
  {
   "cell_type": "code",
   "execution_count": 0,
   "metadata": {
    "ExecuteTime": {},
    "collapsed": false
   },
   "outputs": [],
   "source": [
    "len(pop_names[k].unique())"
   ]
  },
  {
   "cell_type": "code",
   "execution_count": 0,
   "metadata": {
    "ExecuteTime": {},
    "collapsed": false
   },
   "outputs": [],
   "source": [
    "for k in snpmat:\n",
    "    scr = \"\"\"library(OutFLANK)\n",
    "        library(data.table)\n",
    "        pop_names = unlist(fread(\"pop_names\", data.table=F, header=F), use.names=F)\n",
    "        locus_names = unlist(fread(\"locus_names\", data.table=F, header=F), use.names=F)\n",
    "        snpmat = fread(\"snpmat\", header=F, data.table=F)\n",
    "        fstdata = MakeDiploidFSTMat(snpmat,locus_names,pop_names)\n",
    "        outflank_res = OutFLANK(fstdata, LeftTrimFraction=0.05, RightTrimFraction=0.05, Hmin=0.1, NumberOfSamples, qthreshold=0.05)\n",
    "        saveRDS(outflank_res, \"outflank_res.rds\")\"\"\"\n",
    "        \n",
    "    with open(os.path.join(k, \"outflank.R\"), \"w\") as o:\n",
    "        o.write(\"setwd('{}')\\n\".format(k))\n",
    "        o.write(\"NumberOfSamples={}\\n\".format(len(pop_names[k].unique())))\n",
    "        o.write(scr)\n",
    "    "
   ]
  },
  {
   "cell_type": "code",
   "execution_count": 0,
   "metadata": {
    "ExecuteTime": {},
    "collapsed": false
   },
   "outputs": [],
   "source": [
    "outflank_res_files = !find /gpfs_fs/home/eckertlab/projects/burt/seq/dedupe/work/samtools1.3 -name \"outflank*.rds\"\n",
    "for o in outflank_res_files:\n",
    "    var = \"outflank_res_{}\".format(os.path.basename(os.path.dirname(o)))\n",
    "    r(\"{} = readRDS('{}')\".format(var, o))"
   ]
  },
  {
   "cell_type": "code",
   "execution_count": 0,
   "metadata": {
    "ExecuteTime": {},
    "collapsed": false
   },
   "outputs": [],
   "source": [
    "outflank_res = {}\n",
    "for s in spp:\n",
    "    var = \"outflank_res_{}$results\".format(s)\n",
    "    outflank_res[s] = r(var)"
   ]
  },
  {
   "cell_type": "code",
   "execution_count": 0,
   "metadata": {
    "ExecuteTime": {},
    "collapsed": false
   },
   "outputs": [],
   "source": []
  },
  {
   "cell_type": "code",
   "execution_count": 0,
   "metadata": {
    "ExecuteTime": {},
    "collapsed": false
   },
   "outputs": [],
   "source": [
    "outliers = {}\n",
    "for k in outflank_res:\n",
    "    d = outflank_res[k]\n",
    "    o = pd.DataFrame(d[d.OutlierFlag == 1])\n",
    "    if len(o) > 0:\n",
    "        outliers[k] = o"
   ]
  },
  {
   "cell_type": "code",
   "execution_count": 0,
   "metadata": {
    "ExecuteTime": {},
    "collapsed": false
   },
   "outputs": [],
   "source": [
    "sets = []\n",
    "for k in outliers:\n",
    "    sets.append(set(outliers[k].LocusName.tolist()))"
   ]
  },
  {
   "cell_type": "code",
   "execution_count": 0,
   "metadata": {
    "ExecuteTime": {},
    "collapsed": false
   },
   "outputs": [],
   "source": [
    "set.intersection(*sets)"
   ]
  },
  {
   "cell_type": "code",
   "execution_count": 0,
   "metadata": {
    "ExecuteTime": {},
    "collapsed": false
   },
   "outputs": [],
   "source": [
    "sets"
   ]
  },
  {
   "cell_type": "code",
   "execution_count": 0,
   "metadata": {
    "ExecuteTime": {},
    "collapsed": false
   },
   "outputs": [],
   "source": [
    "%%R\n",
    "library(OutFLANK)\n",
    "library(data.table)"
   ]
  },
  {
   "cell_type": "code",
   "execution_count": 0,
   "metadata": {
    "ExecuteTime": {},
    "collapsed": false,
    "scrolled": false
   },
   "outputs": [],
   "source": [
    "%%R\n",
    "setwd(\"/gpfs_fs/home/eckertlab/projects/burt/seq/dedupe/work/samtools1.3\")\n",
    "files=c(\"./E/outflank_res.rds\",\n",
    "\"./P/outflank_res.rds\",\n",
    "\"./G/outflank_res.rds\",\n",
    "\"./T/outflank_res.rds\")\n",
    "names = c(\"Slash\", \"Longleaf\", \"TMP\", \"Loblolly\")\n",
    "for (i in 1:length(files)) {\n",
    "    outflank_res = readRDS(files[i])\n",
    "    print(paste(files[i], outflank_res$numberHighFstOutliers))\n",
    "    OutFLANKResultsPlotter(outflank_res,\n",
    "                       withOutliers=TRUE, \n",
    "                       NoCorr=TRUE, \n",
    "                       Hmin=0.1, \n",
    "                       binwidth=0.005, \n",
    "                       Zoom=FALSE,\n",
    "                       RightZoomFraction=0.05, \n",
    "                       titletext=names[i])\n",
    "}\n"
   ]
  },
  {
   "cell_type": "code",
   "execution_count": 0,
   "metadata": {
    "collapsed": true
   },
   "outputs": [],
   "source": []
  }
 ],
 "metadata": {
  "kernelspec": {
   "display_name": "Python 3",
   "language": "python",
   "name": "python3"
  },
  "language_info": {
   "codemirror_mode": {
    "name": "ipython",
    "version": 3
   },
   "file_extension": ".py",
   "mimetype": "text/x-python",
   "name": "python",
   "nbconvert_exporter": "python",
   "pygments_lexer": "ipython3",
   "version": "3.4.4"
  }
 },
 "nbformat": 4,
 "nbformat_minor": 0
}

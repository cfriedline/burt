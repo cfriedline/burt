{
 "cells": [
  {
   "cell_type": "code",
   "execution_count": 0,
   "metadata": {
    "ExecuteTime": {},
    "collapsed": false
   },
   "outputs": [],
   "source": [
    "import os, sys\n",
    "from ipyparallel import Client\n",
    "import matplotlib.pyplot as plt\n",
    "%matplotlib inline\n",
    "from subprocess import Popen, PIPE\n",
    "from Bio import SeqIO\n",
    "import pandas as pd\n",
    "import pickle\n",
    "import scandir\n",
    "import numpy as np\n",
    "import tempfile\n",
    "import socket\n",
    "from collections import Counter"
   ]
  },
  {
   "cell_type": "code",
   "execution_count": 0,
   "metadata": {
    "ExecuteTime": {},
    "collapsed": true
   },
   "outputs": [],
   "source": [
    "sys.path.append(\"/home/cfriedline/ipynb/include_utils\")"
   ]
  },
  {
   "cell_type": "code",
   "execution_count": 0,
   "metadata": {
    "ExecuteTime": {},
    "collapsed": false
   },
   "outputs": [],
   "source": [
    "import include_utils as u"
   ]
  },
  {
   "cell_type": "code",
   "execution_count": 0,
   "metadata": {
    "ExecuteTime": {},
    "collapsed": false
   },
   "outputs": [],
   "source": [
    "root = \"/home/cfriedline/eckertlab/projects/burt/seq/dedupe/\""
   ]
  },
  {
   "cell_type": "code",
   "execution_count": 0,
   "metadata": {
    "ExecuteTime": {},
    "collapsed": false
   },
   "outputs": [],
   "source": [
    "cd $root"
   ]
  },
  {
   "cell_type": "code",
   "execution_count": 0,
   "metadata": {
    "ExecuteTime": {},
    "collapsed": false
   },
   "outputs": [],
   "source": [
    "pwd"
   ]
  },
  {
   "cell_type": "code",
   "execution_count": 0,
   "metadata": {
    "ExecuteTime": {},
    "collapsed": true
   },
   "outputs": [],
   "source": [
    "fastq_files = !ls *.fastq\n",
    "fastq_files = sorted([os.path.abspath(x) for x in fastq_files])"
   ]
  },
  {
   "cell_type": "code",
   "execution_count": 0,
   "metadata": {
    "ExecuteTime": {},
    "collapsed": false
   },
   "outputs": [],
   "source": [
    "len(fastq_files) == 768"
   ]
  },
  {
   "cell_type": "code",
   "execution_count": 0,
   "metadata": {
    "ExecuteTime": {},
    "collapsed": false
   },
   "outputs": [],
   "source": [
    "assembly = \"/gpfs_fs/home/eckertlab/loblolly2/conitgs.fa\"\n",
    "\n",
    "#indexed as: ~/g/src/bowtie2-2.2.9/bowtie2-build --threads 20 conitgs.fa conitgs.fa -offrate 9 --large-index --threads 40 (b/c it's so big)"
   ]
  },
  {
   "cell_type": "code",
   "execution_count": 0,
   "metadata": {
    "ExecuteTime": {},
    "collapsed": false
   },
   "outputs": [],
   "source": [
    "# --very-fast-local\n",
    "# Same as: -D 5 -R 1 -N 0 -L 25 -i S,1,2.00\n",
    "\n",
    "# --fast-local\n",
    "# Same as: -D 10 -R 2 -N 0 -L 22 -i S,1,1.75\n",
    "\n",
    "# --sensitive-local\n",
    "# Same as: -D 15 -R 2 -N 0 -L 20 -i S,1,0.75 (default in --local mode)\n",
    "\n",
    "# --very-sensitive-local\n",
    "# Same as: -D 20 -R 3 -N 0 -L 20 -i S,1,0.50\n",
    "\n",
    "#@lview.remote()\n",
    "def run_bowtie2(args):\n",
    "    import os, stopwatch, multiprocessing, socket\n",
    "    timer = stopwatch.Timer()\n",
    "    cpus = 64\n",
    "    assembly, reads, outdir = args\n",
    "    sam = os.path.join(outdir, \"{}.sam\".format(os.path.basename(reads)))\n",
    "    sam = tempfile.NamedTemporaryFile(delete=False, dir=\"/tmp\")\n",
    "    cmd = \"/home/cfriedline/g/src/bowtie2-2.2.9//bowtie2 --local -D 20 -R 3 -N 1 -L 20 -i S,1,0.50 -p %d -x %s -U %s -S %s\" % (8,\n",
    "                                                               assembly,\n",
    "                                                               reads,\n",
    "                                                               sam.name)\n",
    "    res = None\n",
    "    res = cmd\n",
    "#     if not os.path.exists(sam):\n",
    "#         res = !$cmd\n",
    "    timer.stop()\n",
    "    return assembly, sam.name, cmd, timer.elapsed, res"
   ]
  },
  {
   "cell_type": "code",
   "execution_count": 0,
   "metadata": {
    "ExecuteTime": {},
    "collapsed": true
   },
   "outputs": [],
   "source": [
    "?tempfile.NamedTemporaryFile"
   ]
  },
  {
   "cell_type": "code",
   "execution_count": 0,
   "metadata": {
    "ExecuteTime": {},
    "collapsed": false
   },
   "outputs": [],
   "source": [
    "sam_outdir = \"/gpfs_fs/home/eckertlab/projects/burt/bowtie2\""
   ]
  },
  {
   "cell_type": "code",
   "execution_count": 0,
   "metadata": {
    "ExecuteTime": {},
    "collapsed": true
   },
   "outputs": [],
   "source": [
    "hosts = []\n",
    "cpus = {}\n",
    "qhost = !qhost | grep godel\n",
    "for q in qhost:\n",
    "    q = q.split()\n",
    "    mem = float(q[4][:-1])\n",
    "    host = q[0]\n",
    "    if mem > 60:\n",
    "        hosts.append(host)\n",
    "        cpus[host] = int(q[2])"
   ]
  },
  {
   "cell_type": "code",
   "execution_count": 0,
   "metadata": {
    "ExecuteTime": {},
    "collapsed": true
   },
   "outputs": [],
   "source": [
    "def create_bt_jobs(files):\n",
    "    bt_jobs = {}\n",
    "    host_id = 0\n",
    "    for f in files:\n",
    "        if host_id == len(hosts):\n",
    "            host_id = 0\n",
    "        host = hosts[host_id]\n",
    "        res = run_bowtie2((assembly, f, sam_outdir))\n",
    "        if not host in bt_jobs:\n",
    "            bt_jobs[host] = {'cmds':[], 'outs':[]}\n",
    "        bt_jobs[host]['cmds'].append(res[2])\n",
    "        bt_jobs[host]['outs'].append((res[1], f+\".sam\"))\n",
    "        host_id += 1\n",
    "    return bt_jobs"
   ]
  },
  {
   "cell_type": "code",
   "execution_count": 0,
   "metadata": {
    "ExecuteTime": {},
    "collapsed": false
   },
   "outputs": [],
   "source": [
    "bt_jobs = create_bt_jobs(fastq_files)    "
   ]
  },
  {
   "cell_type": "code",
   "execution_count": 0,
   "metadata": {
    "ExecuteTime": {},
    "collapsed": false
   },
   "outputs": [],
   "source": [
    "len(bt_jobs) == len(hosts)"
   ]
  },
  {
   "cell_type": "code",
   "execution_count": 0,
   "metadata": {
    "ExecuteTime": {},
    "collapsed": true
   },
   "outputs": [],
   "source": [
    "def write_copy_cmds(key, jobs):\n",
    "    s = \"\"\n",
    "    for elem in jobs[key]['outs']:\n",
    "        s += \"cp -f {0} {1}\\nrm {0}\\n\".format(elem[0], elem[1])\n",
    "    return s\n",
    "\n",
    "def write_jobs(key, jobs):\n",
    "    with open(\"{}_jobs\".format(key), \"w\") as o:\n",
    "        for elem in jobs[key]['cmds']:\n",
    "            o.write(\"{}\\n\".format(elem))\n",
    "    \n",
    "    script = \"\"\"#!/bin/bash\n",
    "    \n",
    "#$ -S /bin/bash\n",
    "#$ -V\n",
    "#$ -cwd\n",
    "#$ -o {0}.out\n",
    "#$ -e {0}.err\n",
    "#$ -N bt\n",
    "#$ -q *@{0}\n",
    "cat {0}_jobs | parallel -j3 --progress\n",
    "{1}\n",
    "\"\"\".format(key, write_copy_cmds(key, jobs))\n",
    "    \n",
    "    with open(\"{}_job.sh\".format(key), \"w\") as o:\n",
    "        o.write(\"{}\\n\".format(script))\n",
    "    return o.name"
   ]
  },
  {
   "cell_type": "code",
   "execution_count": 0,
   "metadata": {
    "ExecuteTime": {},
    "collapsed": false
   },
   "outputs": [],
   "source": [
    "with open(\"runbowtie.sh\", \"w\") as o:\n",
    "for k in bt_jobs:\n",
    "    o.write(\"qsub {}\\n\".format(write_jobs(k, bt_jobs)))"
   ]
  },
  {
   "cell_type": "code",
   "execution_count": 0,
   "metadata": {
    "ExecuteTime": {},
    "collapsed": false
   },
   "outputs": [],
   "source": [
    "fqs = !find /gpfs_fs/home/eckertlab/projects/burt/seq/dedupe/ -name \"*.fastq\""
   ]
  },
  {
   "cell_type": "code",
   "execution_count": 0,
   "metadata": {
    "ExecuteTime": {},
    "collapsed": true
   },
   "outputs": [],
   "source": [
    "sams = !find /gpfs_fs/home/eckertlab/projects/burt/seq/dedupe/ -name \"*.sam\""
   ]
  },
  {
   "cell_type": "code",
   "execution_count": 0,
   "metadata": {
    "ExecuteTime": {},
    "collapsed": false
   },
   "outputs": [],
   "source": [
    "len(fqs), len(sams)"
   ]
  },
  {
   "cell_type": "code",
   "execution_count": 0,
   "metadata": {
    "ExecuteTime": {},
    "collapsed": false
   },
   "outputs": [],
   "source": [
    "missed = []\n",
    "for f in fqs:\n",
    "    if not os.path.exists(f + \".sam\"):\n",
    "        missed.append(f)"
   ]
  },
  {
   "cell_type": "code",
   "execution_count": 0,
   "metadata": {
    "ExecuteTime": {},
    "collapsed": false
   },
   "outputs": [],
   "source": [
    "missed_jobs = create_bt_jobs(missed)"
   ]
  },
  {
   "cell_type": "code",
   "execution_count": 0,
   "metadata": {
    "ExecuteTime": {},
    "collapsed": false
   },
   "outputs": [],
   "source": [
    "len(missed_jobs) == len(missed)"
   ]
  },
  {
   "cell_type": "code",
   "execution_count": 0,
   "metadata": {
    "ExecuteTime": {},
    "collapsed": true
   },
   "outputs": [],
   "source": [
    "with open(\"runbowtie_missed.sh\", \"w\") as o:\n",
    "    for k in missed_jobs:\n",
    "        o.write(\"qsub {}\\n\".format(write_jobs(k, missed_jobs)))"
   ]
  },
  {
   "cell_type": "code",
   "execution_count": 0,
   "metadata": {
    "ExecuteTime": {},
    "collapsed": false
   },
   "outputs": [],
   "source": [
    "# for h in missed_jobs:\n",
    "#     print(h)\n",
    "#     !ssh $h pkill -9 bash\n",
    "#     !ssh $h pkill -9 perl\n",
    "#     !ssh $h pkill -9 bowtie2-align-l "
   ]
  },
  {
   "cell_type": "code",
   "execution_count": 0,
   "metadata": {
    "ExecuteTime": {},
    "collapsed": false
   },
   "outputs": [],
   "source": [
    "rc = Client(profile=\"sge\")"
   ]
  },
  {
   "cell_type": "code",
   "execution_count": 0,
   "metadata": {
    "ExecuteTime": {},
    "collapsed": false
   },
   "outputs": [],
   "source": [
    "dv, lv = u.get_views(rc)\n",
    "len(dv)"
   ]
  },
  {
   "cell_type": "code",
   "execution_count": 0,
   "metadata": {
    "ExecuteTime": {},
    "collapsed": false
   },
   "outputs": [],
   "source": [
    "@lv.remote()\n",
    "def convert_sam_to_bam(sam):\n",
    "    import stopwatch, multiprocessing, os\n",
    "    timer = stopwatch.Timer()\n",
    "    cpus = multiprocessing.cpu_count()\n",
    "    bam = sam.replace(\".sam\", \".bam\")\n",
    "    bam_sorted = \"%s_sorted.bam\" % bam.replace(\".bam\", \"\")\n",
    "    if not os.path.exists(bam):\n",
    "        !/home/cfriedline/gpfs/src/samtools-1.3/samtools view -b $sam -o $bam\n",
    "        !/home/cfriedline/gpfs/src/samtools-1.3/samtools sort -@ $cpus $bam -o $bam_sorted\n",
    "        !/home/cfriedline/gpfs/src/samtools-1.3/samtools index $bam_sorted\n",
    "    timer.stop()\n",
    "    return bam, bam_sorted, timer.elapsed"
   ]
  },
  {
   "cell_type": "code",
   "execution_count": 0,
   "metadata": {
    "ExecuteTime": {},
    "collapsed": false
   },
   "outputs": [],
   "source": [
    "len(fastq_files)"
   ]
  },
  {
   "cell_type": "code",
   "execution_count": 0,
   "metadata": {
    "ExecuteTime": {},
    "collapsed": true
   },
   "outputs": [],
   "source": [
    "demult_dir = \"/gpfs_fs/home/eckertlab/gypsy_indiv/raw_demult_gbsx\""
   ]
  },
  {
   "cell_type": "code",
   "execution_count": 0,
   "metadata": {
    "ExecuteTime": {},
    "collapsed": false
   },
   "outputs": [],
   "source": [
    "pwd"
   ]
  },
  {
   "cell_type": "code",
   "execution_count": 0,
   "metadata": {
    "ExecuteTime": {},
    "collapsed": false
   },
   "outputs": [],
   "source": [
    "sam_files = !find . -type f -name \"*.sam\"\n",
    "sam_files = [os.path.abspath(x) for x in sam_files]\n",
    "assert len(sam_files) == len(fastq_files)"
   ]
  },
  {
   "cell_type": "code",
   "execution_count": 0,
   "metadata": {
    "ExecuteTime": {},
    "collapsed": false
   },
   "outputs": [],
   "source": [
    "sam_files"
   ]
  },
  {
   "cell_type": "code",
   "execution_count": 0,
   "metadata": {
    "ExecuteTime": {},
    "collapsed": false
   },
   "outputs": [],
   "source": [
    "sam_bam_jobs = []\n",
    "for f in sam_files:\n",
    "    sam_bam_jobs.append(convert_sam_to_bam(os.path.abspath(f)))"
   ]
  },
  {
   "cell_type": "code",
   "execution_count": 0,
   "metadata": {
    "ExecuteTime": {},
    "collapsed": false
   },
   "outputs": [],
   "source": [
    "u.get_async_progress(sam_bam_jobs)"
   ]
  },
  {
   "cell_type": "code",
   "execution_count": 0,
   "metadata": {
    "ExecuteTime": {},
    "collapsed": false
   },
   "outputs": [],
   "source": [
    "sorted_bams = !find . -type f -name '*sorted.bam'\n",
    "sorted_bams = [os.path.abspath(x) for x in sorted_bams if 'bam' in x]\n",
    "assert len(sorted_bams) == len(fastq_files)"
   ]
  },
  {
   "cell_type": "code",
   "execution_count": 0,
   "metadata": {
    "ExecuteTime": {},
    "collapsed": true
   },
   "outputs": [],
   "source": [
    "@lv.remote()\n",
    "def get_lane_info(bam):\n",
    "    res = !/home/cfriedline/g/src/samtools-1.3/samtools view $bam | tail -n1\n",
    "    return bam, res[0].split(\"\\t\")[0]"
   ]
  },
  {
   "cell_type": "code",
   "execution_count": 0,
   "metadata": {
    "ExecuteTime": {},
    "collapsed": true
   },
   "outputs": [],
   "source": [
    "rg_info = []\n",
    "for f in sorted_bams:\n",
    "    rg_info.append(get_lane_info(f))"
   ]
  },
  {
   "cell_type": "code",
   "execution_count": 0,
   "metadata": {
    "ExecuteTime": {},
    "collapsed": false
   },
   "outputs": [],
   "source": [
    "u.get_async_progress(rg_info)"
   ]
  },
  {
   "cell_type": "code",
   "execution_count": 0,
   "metadata": {
    "ExecuteTime": {},
    "collapsed": true
   },
   "outputs": [],
   "source": [
    "lane_info = [x.r for x in rg_info]"
   ]
  },
  {
   "cell_type": "code",
   "execution_count": 0,
   "metadata": {
    "ExecuteTime": {},
    "collapsed": true
   },
   "outputs": [],
   "source": [
    "rg_dict = {}\n",
    "for bam, header in lane_info:\n",
    "    sample = os.path.basename(bam).split(\".\")[0]\n",
    "    instr, run, flowcell, lane, tile, x, y = header.split(\":\")\n",
    "    rg_dict[bam] = {\"id\": \"{}.{}.{}\".format(flowcell, lane, sample),\n",
    "                   \"pl\": \"ILLUMINA\",\n",
    "                   \"lb\": \"{}.{}\".format(flowcell, lane),\n",
    "                   \"sm\": sample}"
   ]
  },
  {
   "cell_type": "code",
   "execution_count": 0,
   "metadata": {
    "ExecuteTime": {},
    "collapsed": true
   },
   "outputs": [],
   "source": [
    "dv['rg_dict'] = rg_dict"
   ]
  },
  {
   "cell_type": "code",
   "execution_count": 0,
   "metadata": {
    "ExecuteTime": {},
    "collapsed": true
   },
   "outputs": [],
   "source": [
    "hv = u.get_single_host_lview(rc, \"all\")"
   ]
  },
  {
   "cell_type": "code",
   "execution_count": 0,
   "metadata": {
    "ExecuteTime": {},
    "collapsed": false
   },
   "outputs": [],
   "source": [
    "len(hv)"
   ]
  },
  {
   "cell_type": "code",
   "execution_count": 0,
   "metadata": {
    "ExecuteTime": {},
    "collapsed": false
   },
   "outputs": [],
   "source": [
    "@hv.remote()\n",
    "def add_rg_info_to_bam(bam):\n",
    "    import os\n",
    "    cmd = \"java -jar /home/cfriedline/gpfs/src/picard-tools-1.112/AddOrReplaceReadGroups.jar\"\n",
    "    bam_rg = bam.replace(\".bam\", \"_rg.bam\")\n",
    "    info = rg_dict[bam]\n",
    "    rg_string = \"RGID={0} RGLB={1} RGPL=ILLUMINA RGPU={1} RGSM={2}\".format(info['id'],\n",
    "                                                                           info['lb'],\n",
    "                                                                           info['sm'])\n",
    "    cmd = \"{} INPUT={} OUTPUT={} {} CREATE_INDEX=true\".format(cmd,\n",
    "                                                              bam,\n",
    "                                                              bam_rg,\n",
    "                                                              rg_string)\n",
    "#     if not os.path.exists(bam_rg):\n",
    "    !$cmd\n",
    "    return bam_rg, rg_string, cmd"
   ]
  },
  {
   "cell_type": "code",
   "execution_count": 0,
   "metadata": {
    "ExecuteTime": {},
    "collapsed": false
   },
   "outputs": [],
   "source": [
    "add_rg = []\n",
    "for f in sorted_bams:\n",
    "    add_rg.append(add_rg_info_to_bam(f))"
   ]
  },
  {
   "cell_type": "code",
   "execution_count": 0,
   "metadata": {
    "ExecuteTime": {},
    "collapsed": false
   },
   "outputs": [],
   "source": [
    "u.get_async_progress(add_rg)"
   ]
  },
  {
   "cell_type": "code",
   "execution_count": 0,
   "metadata": {
    "ExecuteTime": {},
    "collapsed": false
   },
   "outputs": [],
   "source": [
    "rg_bams = !find . -name \"*rg.bam\"\n",
    "rg_bams = sorted([os.path.abspath(x) for x in rg_bams if 'rg.bam' in x])\n",
    "assert len(rg_bams) == len(fastq_files)"
   ]
  },
  {
   "cell_type": "code",
   "execution_count": 0,
   "metadata": {
    "ExecuteTime": {},
    "collapsed": false
   },
   "outputs": [],
   "source": [
    "len(rg_bams)"
   ]
  },
  {
   "cell_type": "code",
   "execution_count": 0,
   "metadata": {
    "ExecuteTime": {},
    "collapsed": true
   },
   "outputs": [],
   "source": [
    "def get_mapped(bam):\n",
    "    import os\n",
    "    out = \"%s_mapped.bam\" % bam.split(\".\")[0]\n",
    "    if not os.path.exists(out):                                       \n",
    "        cmd = \"%s view -b -F 4 %s > %s\" % (samtools, bam, out)\n",
    "        res = !$cmd\n",
    "    index_bam(out)\n",
    "    return bam"
   ]
  },
  {
   "cell_type": "code",
   "execution_count": 0,
   "metadata": {
    "ExecuteTime": {},
    "collapsed": false
   },
   "outputs": [],
   "source": [
    "def index_bam(bam):\n",
    "    cmd = \"%s index %s\" % (samtools, bam)\n",
    "    !$cmd\n",
    "    return bam"
   ]
  },
  {
   "cell_type": "code",
   "execution_count": 0,
   "metadata": {
    "ExecuteTime": {},
    "collapsed": false
   },
   "outputs": [],
   "source": [
    "samtools = \"/home/cfriedline/g/src/samtools-1.3/samtools\"\n",
    "dv['samtools'] = samtools\n",
    "dv['index_bam'] = index_bam\n",
    "dv['get_mapped'] = get_mapped"
   ]
  },
  {
   "cell_type": "code",
   "execution_count": 0,
   "metadata": {
    "ExecuteTime": {},
    "collapsed": false
   },
   "outputs": [],
   "source": [
    "jobs = []\n",
    "for b in rg_bams:\n",
    "    jobs.append(lv.apply_async(get_mapped, b))"
   ]
  },
  {
   "cell_type": "code",
   "execution_count": 0,
   "metadata": {
    "ExecuteTime": {},
    "collapsed": false
   },
   "outputs": [],
   "source": [
    "u.get_async_progress(jobs)"
   ]
  },
  {
   "cell_type": "code",
   "execution_count": 0,
   "metadata": {
    "ExecuteTime": {},
    "collapsed": true
   },
   "outputs": [],
   "source": [
    "def get_contigs(bam):\n",
    "    contigs = set()\n",
    "    cmd = \"/home/cfriedline/g/src/samtools-1.3/samtools view %s\" % bam\n",
    "    sys.stderr.write(\"%s: %s\\n\" % (socket.gethostname(), cmd))\n",
    "    p = Popen(cmd, stdout=PIPE, shell=True)\n",
    "    for line in p.stdout:\n",
    "        d = line.decode().split(\"\\t\")\n",
    "        contigs.add(d[2])\n",
    "    return contigs"
   ]
  },
  {
   "cell_type": "code",
   "execution_count": 0,
   "metadata": {
    "ExecuteTime": {},
    "collapsed": true
   },
   "outputs": [],
   "source": [
    "dv['get_contigs'] = get_contigs"
   ]
  },
  {
   "cell_type": "code",
   "execution_count": 0,
   "metadata": {
    "ExecuteTime": {},
    "collapsed": true
   },
   "outputs": [],
   "source": [
    "mapped = !ls *mapped.bam\n",
    "mapped = [os.path.abspath(x) for x in mapped]"
   ]
  },
  {
   "cell_type": "code",
   "execution_count": 0,
   "metadata": {
    "ExecuteTime": {},
    "collapsed": false
   },
   "outputs": [],
   "source": [
    "len(mapped)"
   ]
  },
  {
   "cell_type": "code",
   "execution_count": 0,
   "metadata": {
    "ExecuteTime": {},
    "collapsed": false
   },
   "outputs": [],
   "source": [
    "with dv.sync_imports():\n",
    "    import os, sys, socket\n",
    "    from subprocess import Popen, PIPE"
   ]
  },
  {
   "cell_type": "code",
   "execution_count": 0,
   "metadata": {
    "ExecuteTime": {},
    "collapsed": false
   },
   "outputs": [],
   "source": [
    "mapped[0]"
   ]
  },
  {
   "cell_type": "code",
   "execution_count": 0,
   "metadata": {
    "ExecuteTime": {},
    "collapsed": false
   },
   "outputs": [],
   "source": [
    "jobs = []\n",
    "for b in mapped:\n",
    "    jobs.append(lv.apply_async(get_contigs, b))"
   ]
  },
  {
   "cell_type": "code",
   "execution_count": 0,
   "metadata": {
    "ExecuteTime": {},
    "collapsed": false
   },
   "outputs": [],
   "source": [
    "u.get_async_progress(jobs)"
   ]
  },
  {
   "cell_type": "code",
   "execution_count": 0,
   "metadata": {
    "ExecuteTime": {},
    "collapsed": false
   },
   "outputs": [],
   "source": [
    "contig_counts = Counter()\n",
    "for j in jobs:\n",
    "    for contig in j.r:\n",
    "        contig_counts[contig] += 1"
   ]
  },
  {
   "cell_type": "code",
   "execution_count": 0,
   "metadata": {
    "ExecuteTime": {},
    "collapsed": true
   },
   "outputs": [],
   "source": [
    "contig_counts_sav = \"contig_counts.pkl\"\n",
    "pickle.dump(contig_counts, open(contig_counts_sav, \"wb\"), pickle.HIGHEST_PROTOCOL)"
   ]
  },
  {
   "cell_type": "code",
   "execution_count": 0,
   "metadata": {
    "ExecuteTime": {},
    "collapsed": false
   },
   "outputs": [],
   "source": [
    "assembly = \"/home/cfriedline/eckertlab/loblolly2/conitgs.fa\""
   ]
  },
  {
   "cell_type": "code",
   "execution_count": 0,
   "metadata": {
    "ExecuteTime": {},
    "collapsed": true
   },
   "outputs": [],
   "source": [
    "count = !grep -c \">\" $assembly"
   ]
  },
  {
   "cell_type": "code",
   "execution_count": 0,
   "metadata": {
    "ExecuteTime": {},
    "collapsed": false
   },
   "outputs": [],
   "source": [
    "count = 2855700"
   ]
  },
  {
   "cell_type": "code",
   "execution_count": 0,
   "metadata": {
    "ExecuteTime": {},
    "collapsed": false
   },
   "outputs": [],
   "source": [
    "len(contig_counts), len(contig_counts)/count"
   ]
  },
  {
   "cell_type": "code",
   "execution_count": 0,
   "metadata": {
    "ExecuteTime": {},
    "collapsed": false
   },
   "outputs": [],
   "source": [
    "cd $root"
   ]
  },
  {
   "cell_type": "code",
   "execution_count": 0,
   "metadata": {
    "ExecuteTime": {},
    "collapsed": true
   },
   "outputs": [],
   "source": [
    "mapped_fasta = os.path.join(root, \"%s_mapped.fasta\" % os.path.basename(assembly))"
   ]
  },
  {
   "cell_type": "code",
   "execution_count": 0,
   "metadata": {
    "ExecuteTime": {},
    "collapsed": false
   },
   "outputs": [],
   "source": [
    "mapped_fasta"
   ]
  },
  {
   "cell_type": "code",
   "execution_count": 0,
   "metadata": {
    "ExecuteTime": {},
    "collapsed": true
   },
   "outputs": [],
   "source": [
    "faSomeRecords = \"/home/cfriedline/g/src/kentUtils/bin/faSomeRecords\""
   ]
  },
  {
   "cell_type": "code",
   "execution_count": 0,
   "metadata": {
    "ExecuteTime": {},
    "collapsed": true
   },
   "outputs": [],
   "source": [
    "with open(\"all_contigs.txt\", \"w\") as o:\n",
    "    for c in contig_counts:\n",
    "        o.write(\"{}\\n\".format(c))"
   ]
  },
  {
   "cell_type": "code",
   "execution_count": 0,
   "metadata": {
    "ExecuteTime": {},
    "collapsed": false
   },
   "outputs": [],
   "source": [
    "## Run this in a terminal\n",
    "\"{} {} {} {}\".format(faSomeRecords, assembly, \"all_contigs.txt\", mapped_fasta)"
   ]
  },
  {
   "cell_type": "code",
   "execution_count": 0,
   "metadata": {
    "ExecuteTime": {},
    "collapsed": true
   },
   "outputs": [],
   "source": [
    "with open(\"contigs.bed\", \"w\") as o:\n",
    "    for rec in SeqIO.parse(mapped_fasta, \"fasta\"):\n",
    "        o.write(\"%s\\t%d\\t%d\\n\" % (rec.name, 0, len(rec)))"
   ]
  }
 ],
 "metadata": {
  "kernelspec": {
   "display_name": "Python 3",
   "language": "python",
   "name": "python3"
  },
  "language_info": {
   "codemirror_mode": {
    "name": "ipython",
    "version": 3
   },
   "file_extension": ".py",
   "mimetype": "text/x-python",
   "name": "python",
   "nbconvert_exporter": "python",
   "pygments_lexer": "ipython3",
   "version": "3.4.4"
  }
 },
 "nbformat": 4,
 "nbformat_minor": 0
}

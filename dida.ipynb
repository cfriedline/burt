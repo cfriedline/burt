{
 "cells": [
  {
   "cell_type": "markdown",
   "metadata": {},
   "source": [
    "### Setup DIDA\n",
    "```bash\n",
    "cd /home/cfriedline/eckertlab/loblolly2\n",
    "prt -p180 /home/cfriedline/eckertlab/loblolly2/conitgs.fa\n",
    "ls mref-* | parallel ~/g/src/bowtie2-2.2.9/bowtie2-build {} {}\n",
    "```"
   ]
  },
  {
   "cell_type": "code",
   "execution_count": 0,
   "metadata": {
    "ExecuteTime": {},
    "collapsed": true
   },
   "outputs": [],
   "source": [
    "qhost = !qhost | grep godel"
   ]
  },
  {
   "cell_type": "code",
   "execution_count": 0,
   "metadata": {
    "ExecuteTime": {},
    "collapsed": false
   },
   "outputs": [],
   "source": [
    "cd /home/cfriedline/eckertlab/projects/burt/seq/dedupe/"
   ]
  },
  {
   "cell_type": "code",
   "execution_count": 0,
   "metadata": {
    "ExecuteTime": {},
    "collapsed": false
   },
   "outputs": [],
   "source": [
    "qhost"
   ]
  },
  {
   "cell_type": "code",
   "execution_count": 0,
   "metadata": {
    "ExecuteTime": {},
    "collapsed": false
   },
   "outputs": [],
   "source": [
    "exclude = ['godel37', 'godel200', 'godel30',\n",
    "          'godel25', 'godel33', 'godel21', 'godel96', 'godel97', 'godel32']\n",
    "with open(\"hosts.txt\", \"w\") as o:\n",
    "    for q in qhost:\n",
    "        q = q.split()\n",
    "        host = q[0]\n",
    "        if host not in exclude:\n",
    "            o.write(\"{0} slots={1} max-slots={1}\\n\".format(q[0], q[2]))\n",
    "    "
   ]
  },
  {
   "cell_type": "code",
   "execution_count": 0,
   "metadata": {
    "ExecuteTime": {},
    "collapsed": false
   },
   "outputs": [],
   "source": [
    "cat hosts.txt"
   ]
  },
  {
   "cell_type": "code",
   "execution_count": 0,
   "metadata": {
    "collapsed": true
   },
   "outputs": [],
   "source": []
  }
 ],
 "metadata": {
  "kernelspec": {
   "display_name": "Python 3",
   "language": "python",
   "name": "python3"
  },
  "language_info": {
   "codemirror_mode": {
    "name": "ipython",
    "version": 3
   },
   "file_extension": ".py",
   "mimetype": "text/x-python",
   "name": "python",
   "nbconvert_exporter": "python",
   "pygments_lexer": "ipython3",
   "version": "3.4.4"
  }
 },
 "nbformat": 4,
 "nbformat_minor": 0
}

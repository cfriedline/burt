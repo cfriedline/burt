{
 "cells": [
  {
   "cell_type": "code",
   "execution_count": 0,
   "metadata": {
    "ExecuteTime": {},
    "collapsed": true
   },
   "outputs": [],
   "source": [
    "import pandas as pd\n",
    "from scipy.spatial.distance import hamming\n",
    "import Levenshtein as lv\n",
    "import pickle"
   ]
  },
  {
   "cell_type": "code",
   "execution_count": 0,
   "metadata": {
    "ExecuteTime": {},
    "collapsed": false
   },
   "outputs": [],
   "source": [
    "cd /home/cfriedline/eckertlab/projects/burt/seq"
   ]
  },
  {
   "cell_type": "code",
   "execution_count": 0,
   "metadata": {
    "ExecuteTime": {},
    "collapsed": false
   },
   "outputs": [],
   "source": [
    "barcodes = pd.read_excel(\"barcodes.xls\")"
   ]
  },
  {
   "cell_type": "code",
   "execution_count": 0,
   "metadata": {
    "ExecuteTime": {},
    "collapsed": false
   },
   "outputs": [],
   "source": [
    "plates = !ls plate*.xls"
   ]
  },
  {
   "cell_type": "code",
   "execution_count": 0,
   "metadata": {
    "ExecuteTime": {},
    "collapsed": false
   },
   "outputs": [],
   "source": [
    "def convert_plate(plate_dict):\n",
    "    d = {}\n",
    "    for row, inner in plate_dict.items():\n",
    "        for col, sample in inner.items():\n",
    "            key = \"{}{}\".format(row, col)\n",
    "            d[key] = sample\n",
    "    return pd.DataFrame(d, index=[\"sample\"]).T\n",
    "test = convert_plate(p)"
   ]
  },
  {
   "cell_type": "code",
   "execution_count": 0,
   "metadata": {
    "ExecuteTime": {},
    "collapsed": true
   },
   "outputs": [],
   "source": [
    "def write_barcode(df, out):\n",
    "     df[['sample', 'well', 'barcode1', 'barcode2']].to_csv(out, sep=\"\\t\", index=False)"
   ]
  },
  {
   "cell_type": "code",
   "execution_count": 0,
   "metadata": {
    "ExecuteTime": {},
    "collapsed": true
   },
   "outputs": [],
   "source": [
    "def write_gbsx_barcode(df, out):\n",
    "    d = df.copy()\n",
    "    d['none'] = \"\"\n",
    "    d['gbsx_bc'] = d.barcode2.apply(lambda x: x.replace(\"CTCTTTCCCTACACGACGCTCTTCCGATCT\", \"\").upper())\n",
    "    d['gbsx_enz'] = \"EcoRI\"\n",
    "    d[['sample', 'gbsx_bc', 'gbsx_enz']].to_csv(out, sep=\"\\t\", index=False, header=False)"
   ]
  },
  {
   "cell_type": "code",
   "execution_count": 0,
   "metadata": {
    "ExecuteTime": {},
    "collapsed": false
   },
   "outputs": [],
   "source": [
    "for plate in plates:\n",
    "    p = pd.read_excel(plate, index_col=0).T.to_dict()\n",
    "    p = convert_plate(p)\n",
    "    d = p.merge(barcodes, left_index=True, right_on=\"well\")\n",
    "    lib =plate.split(\"_\")[1] \n",
    "    gbsx = \"barcode_{}_gbsx.txt\".format(lib)\n",
    "    d = d.sort_values(\"well\")\n",
    "    write_gbsx_barcode(d, gbsx)"
   ]
  },
  {
   "cell_type": "code",
   "execution_count": 0,
   "metadata": {
    "ExecuteTime": {},
    "collapsed": false
   },
   "outputs": [],
   "source": [
    "bcs = barcodes.barcode2.apply(lambda x: x.replace(\"CTCTTTCCCTACACGACGCTCTTCCGATCT\", \"\")[:-1].upper())"
   ]
  },
  {
   "cell_type": "code",
   "execution_count": 0,
   "metadata": {
    "ExecuteTime": {},
    "collapsed": true
   },
   "outputs": [],
   "source": [
    "bc_lens = {}\n",
    "for b in bcs:\n",
    "    l = len(b)\n",
    "    if not l in bc_lens:\n",
    "        bc_lens[l] = []\n",
    "    bc_lens[l].append(b)"
   ]
  },
  {
   "cell_type": "code",
   "execution_count": 0,
   "metadata": {
    "ExecuteTime": {},
    "collapsed": false
   },
   "outputs": [],
   "source": [
    "pickle.dump(bc_lens, open(\"bc_lens.pkl\", \"wb\"))"
   ]
  },
  {
   "cell_type": "code",
   "execution_count": 0,
   "metadata": {
    "collapsed": true
   },
   "outputs": [],
   "source": []
  }
 ],
 "metadata": {
  "kernelspec": {
   "display_name": "Python 3",
   "language": "python",
   "name": "python3"
  },
  "language_info": {
   "codemirror_mode": {
    "name": "ipython",
    "version": 3
   },
   "file_extension": ".py",
   "mimetype": "text/x-python",
   "name": "python",
   "nbconvert_exporter": "python",
   "pygments_lexer": "ipython3",
   "version": "3.7.0"
  }
 },
 "nbformat": 4,
 "nbformat_minor": 2
}

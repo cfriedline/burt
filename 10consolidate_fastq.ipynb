{
 "cells": [
  {
   "cell_type": "code",
   "execution_count": 0,
   "metadata": {},
   "outputs": [],
   "source": [
    "import glob\n",
    "import os \n",
    "import multiprocessing as mp\n",
    "from pathlib import Path\n",
    "import shutil\n",
    "import pandas as pd \n",
    "import hashlib"
   ]
  },
  {
   "cell_type": "code",
   "execution_count": 0,
   "metadata": {},
   "outputs": [],
   "source": [
    "plate_map_dir = \"/home/cfriedline/eckertlab/BURT/plate_maps/\""
   ]
  },
  {
   "cell_type": "code",
   "execution_count": 0,
   "metadata": {},
   "outputs": [],
   "source": [
    "plate_files = glob.glob(f\"{plate_map_dir}/*.xls\")"
   ]
  },
  {
   "cell_type": "code",
   "execution_count": 0,
   "metadata": {},
   "outputs": [],
   "source": [
    "def read_plate(f):\n",
    "    df = pd.read_excel(f)\n",
    "    df.index = df.iloc[:,0]\n",
    "    df = df.drop(df.columns[0], axis=1)\n",
    "    df.index.name = None\n",
    "    df = df.reset_index().rename(columns={\"index\":\"row\"})\n",
    "    df[\"source\"] = Path(f).name\n",
    "    return df.melt(id_vars=[\"source\", \"row\"], var_name=\"col\", value_name=\"sample_name\")"
   ]
  },
  {
   "cell_type": "code",
   "execution_count": 0,
   "metadata": {},
   "outputs": [],
   "source": [
    "all_plates = pd.concat([read_plate(x) for x in plate_files])"
   ]
  },
  {
   "cell_type": "code",
   "execution_count": 0,
   "metadata": {},
   "outputs": [],
   "source": [
    "all_plates = all_plates.reset_index(drop=True)"
   ]
  },
  {
   "cell_type": "code",
   "execution_count": 0,
   "metadata": {},
   "outputs": [],
   "source": [
    "all_plates.head()"
   ]
  },
  {
   "cell_type": "code",
   "execution_count": 0,
   "metadata": {},
   "outputs": [],
   "source": [
    "def split_name(name):\n",
    "    try:\n",
    "        data = name.split(\"-\")\n",
    "        return pd.Series(dict(species=data[0], \n",
    "                             state=data[1], \n",
    "                             popn=data[2],\n",
    "                             ind=\"-\".join(data[3:]),\n",
    "                             full_pop=\"-\".join(data[0:3])))\n",
    "    except:\n",
    "        return pd.Series()\n",
    "all_plates = all_plates.join(all_plates.sample_name.apply(split_name))"
   ]
  },
  {
   "cell_type": "code",
   "execution_count": 0,
   "metadata": {},
   "outputs": [],
   "source": [
    "all_plates = all_plates[~all_plates.sample_name.isna()].copy()"
   ]
  },
  {
   "cell_type": "code",
   "execution_count": 0,
   "metadata": {},
   "outputs": [],
   "source": [
    "def derive_library_name(name):\n",
    "    if \"layout\" in name:\n",
    "        return f'Burt{name.split(\"_\")[1]}'\n",
    "    return f'Burt{name.split(\".\")[0].replace(\"plate\", \"\")}'\n",
    "all_plates[\"library\"] = all_plates.source.apply(derive_library_name)"
   ]
  },
  {
   "cell_type": "code",
   "execution_count": 0,
   "metadata": {},
   "outputs": [],
   "source": [
    "sorted(all_plates.library.unique())"
   ]
  },
  {
   "cell_type": "code",
   "execution_count": 0,
   "metadata": {},
   "outputs": [],
   "source": [
    "all_plates.head()"
   ]
  },
  {
   "cell_type": "code",
   "execution_count": 0,
   "metadata": {},
   "outputs": [],
   "source": [
    "all_plates.to_csv(Path(plate_map_dir, \"all_plates.txt\"), sep=\"\\t\", index=False)"
   ]
  },
  {
   "cell_type": "code",
   "execution_count": 0,
   "metadata": {},
   "outputs": [],
   "source": [
    "all_plates[all_plates.sample_name==\"G-VA-1-15\"]"
   ]
  },
  {
   "cell_type": "code",
   "execution_count": 0,
   "metadata": {},
   "outputs": [],
   "source": [
    "all_plates.groupby(\"species\").count()"
   ]
  },
  {
   "cell_type": "code",
   "execution_count": 0,
   "metadata": {},
   "outputs": [],
   "source": [
    "def make_df(gz_list, seq_center):\n",
    "    df = pd.DataFrame(gz_list, columns=[\"fastq\"])\n",
    "    df[\"sample_name\"] = df.fastq.apply(lambda path: path.name.split(\".R1\")[0])\n",
    "    sample_name_split = df.sample_name.str.split(\"-\")\n",
    "    df[\"species\"] = [x[0] for x in sample_name_split]\n",
    "    df[\"state\"] = [x[1] for x in sample_name_split]\n",
    "    df[\"ind\"] = [x[3] for x in sample_name_split]\n",
    "    df[\"popn\"] = [\"-\".join(x[0:3]) for x in sample_name_split]\n",
    "    df[\"spp_popn\"] = [\"-\".join(x[1:3]) for x in sample_name_split]\n",
    "    df[\"run\"] = [x.parent.parent.name for x in df.fastq]\n",
    "    if seq_center == \"Novogene\":\n",
    "        df[\"run\"] = \"Novogene1\"\n",
    "    df[\"lib\"] = [x.parent.name for x in df.fastq]\n",
    "    df[\"seq_center\"] = seq_center\n",
    "    return df"
   ]
  },
  {
   "cell_type": "code",
   "execution_count": 0,
   "metadata": {},
   "outputs": [],
   "source": [
    "round1_root = Path(\"/home/cfriedline/eckertlab/projects/burt/seq\")"
   ]
  },
  {
   "cell_type": "code",
   "execution_count": 0,
   "metadata": {},
   "outputs": [],
   "source": [
    "round1_gz = list(round1_root.glob(\"**/*-*.R1.*.gz\"))"
   ]
  },
  {
   "cell_type": "code",
   "execution_count": 0,
   "metadata": {},
   "outputs": [],
   "source": [
    "round1_gz = [x for x in round1_gz if x.parent.parent.name in [\"160520\", \"160525\"]]"
   ]
  },
  {
   "cell_type": "code",
   "execution_count": 0,
   "metadata": {},
   "outputs": [],
   "source": [
    "df1 = make_df(round1_gz, \"NARF\")"
   ]
  },
  {
   "cell_type": "code",
   "execution_count": 0,
   "metadata": {},
   "outputs": [],
   "source": [
    "df1.head()"
   ]
  },
  {
   "cell_type": "code",
   "execution_count": 0,
   "metadata": {},
   "outputs": [],
   "source": [
    "round2_root = Path(\"/home/cfriedline/eckertlab/Novogene/burt/demult\")"
   ]
  },
  {
   "cell_type": "code",
   "execution_count": 0,
   "metadata": {},
   "outputs": [],
   "source": [
    "round2_gz = list(round2_root.glob(\"*BURT*/*-*.R1.*.gz\"))"
   ]
  },
  {
   "cell_type": "code",
   "execution_count": 0,
   "metadata": {},
   "outputs": [],
   "source": [
    "df2 = make_df(round2_gz, \"Novogene\")"
   ]
  },
  {
   "cell_type": "code",
   "execution_count": 0,
   "metadata": {},
   "outputs": [],
   "source": [
    "df_all = pd.concat([df1, df2])"
   ]
  },
  {
   "cell_type": "code",
   "execution_count": 0,
   "metadata": {},
   "outputs": [],
   "source": [
    "def md5(fname):\n",
    "    res = !md5sum {fname}\n",
    "    return res[0].split()[0]"
   ]
  },
  {
   "cell_type": "code",
   "execution_count": 0,
   "metadata": {},
   "outputs": [],
   "source": [
    "def progress(l):\n",
    "    ready = sum([x.ready() for x in l])\n",
    "    return f\"{ready}/{len(l)} ({ready*100/len(l)}%)\""
   ]
  },
  {
   "cell_type": "code",
   "execution_count": 0,
   "metadata": {},
   "outputs": [],
   "source": [
    "jobs = []\n",
    "pool = mp.Pool()\n",
    "for f in df_all.fastq:\n",
    "    jobs.append(pool.apply_async(md5, (f,)))\n",
    "pool.close()\n",
    "# pool.join()"
   ]
  },
  {
   "cell_type": "code",
   "execution_count": 0,
   "metadata": {},
   "outputs": [],
   "source": [
    "progress(jobs)"
   ]
  },
  {
   "cell_type": "code",
   "execution_count": 0,
   "metadata": {},
   "outputs": [],
   "source": [
    "df_all[\"md5\"] = [x.get() for x in jobs]"
   ]
  },
  {
   "cell_type": "code",
   "execution_count": 0,
   "metadata": {},
   "outputs": [],
   "source": [
    "pool.join()"
   ]
  },
  {
   "cell_type": "code",
   "execution_count": 0,
   "metadata": {},
   "outputs": [],
   "source": [
    "df_all[\"RGPL\"] = \"ILLUMINA\"\n",
    "df_all[\"RGSM\"] = df_all.sample_name\n",
    "df_all[\"RGLB\"] = df_all.lib\n",
    "df_all[\"RGID\"] = df_all.sample_name + \".\" + df_all.run + \".\" + df_all.lib"
   ]
  },
  {
   "cell_type": "code",
   "execution_count": 0,
   "metadata": {},
   "outputs": [],
   "source": [
    "df_all.head()"
   ]
  },
  {
   "cell_type": "code",
   "execution_count": 0,
   "metadata": {},
   "outputs": [],
   "source": [
    "from Bio.SeqIO.QualityIO import FastqGeneralIterator\n",
    "import gzip"
   ]
  },
  {
   "cell_type": "code",
   "execution_count": 0,
   "metadata": {},
   "outputs": [],
   "source": [
    "def get_PU(fastq_file):\n",
    "    with gzip.open(fastq_file, \"rt\") as f:\n",
    "        for name, seq, qual in FastqGeneralIterator(f):\n",
    "            data = name.split(\":\")\n",
    "            instrument = data[0]\n",
    "            run_number = data[1]\n",
    "            flowcell_id = data[2]\n",
    "            lane = data[3]\n",
    "            return [flowcell_id, lane]\n",
    "flowcell_lane = df_all.fastq.apply(get_PU)"
   ]
  },
  {
   "cell_type": "code",
   "execution_count": 0,
   "metadata": {},
   "outputs": [],
   "source": [
    "df_all[\"flowcell_lane\"] = [\".\".join(x for x in y) for y in flowcell_lane]"
   ]
  },
  {
   "cell_type": "code",
   "execution_count": 0,
   "metadata": {},
   "outputs": [],
   "source": [
    "df_all[\"RGPU\"] = df_all.flowcell_lane + \".\" + df_all.sample_name"
   ]
  },
  {
   "cell_type": "code",
   "execution_count": 0,
   "metadata": {},
   "outputs": [],
   "source": [
    "def get_read_num(fastq_file):\n",
    "    count = 0\n",
    "    try:\n",
    "        with gzip.open(fastq_file, \"rt\") as f:\n",
    "            for name, seq, qual in FastqGeneralIterator(f):\n",
    "                count+=1\n",
    "    except:\n",
    "        return -1\n",
    "    return count"
   ]
  },
  {
   "cell_type": "code",
   "execution_count": 0,
   "metadata": {},
   "outputs": [],
   "source": [
    "pool = mp.Pool()\n",
    "jobs = []\n",
    "for f in df_all.fastq:\n",
    "    jobs.append(pool.apply_async(get_read_num, (f,)))\n",
    "pool.close()"
   ]
  },
  {
   "cell_type": "code",
   "execution_count": 0,
   "metadata": {},
   "outputs": [],
   "source": [
    "progress(jobs)"
   ]
  },
  {
   "cell_type": "code",
   "execution_count": 0,
   "metadata": {},
   "outputs": [],
   "source": [
    "df_all[\"num_reads\"] = [x.get() for x in jobs]"
   ]
  },
  {
   "cell_type": "code",
   "execution_count": 0,
   "metadata": {},
   "outputs": [],
   "source": [
    "df_all[df_all.num_reads==-1].fastq.values"
   ]
  },
  {
   "cell_type": "markdown",
   "metadata": {},
   "source": [
    "## Failed fastq files\n",
    "These files failed. Will uncompress and recompres as follows.\n",
    "\n",
    "```\n",
    "array([PosixPath('/home/cfriedline/eckertlab/Novogene/burt/demult/BURT_10/G-VA-3-5.R1.fastq.gz'),\n",
    "       PosixPath('/home/cfriedline/eckertlab/Novogene/burt/demult/BURT_11/G-VA-3-14.R1.fastq.gz'),\n",
    "       PosixPath('/home/cfriedline/eckertlab/Novogene/burt/demult/BURT_12/G-VA-3-6.R1.fastq.gz'),\n",
    "       PosixPath('/home/cfriedline/eckertlab/Novogene/burt/demult/BURT_12/G-VA-3-10.R1.fastq.gz')],\n",
    "      dtype=object)\n",
    "```\n",
    "\n",
    "```\n",
    "zcat /home/cfriedline/eckertlab/Novogene/burt/demult/BURT_10/G-VA-3-5.R1.fastq.gz | gzip > /home/cfriedline/eckertlab/Novogene/burt/demult/BURT_10/G-VA-3-5.R1.fastq.gz_new.gz\n",
    "\n",
    "mv /home/cfriedline/eckertlab/Novogene/burt/demult/BURT_10/G-VA-3-5.R1.fastq.gz_new.gz /home/cfriedline/eckertlab/Novogene/burt/demult/BURT_10/G-VA-3-5.R1.fastq.gz\n",
    "```\n",
    "      "
   ]
  },
  {
   "cell_type": "code",
   "execution_count": 0,
   "metadata": {},
   "outputs": [],
   "source": [
    "for f in df_all[df_all.num_reads==-1].fastq.values:\n",
    "    print(f)\n",
    "    old = f\n",
    "    bak = f\"{f}.bak\"\n",
    "    new = f\"{f}.temp\"\n",
    "    !cp {old} {bak}\n",
    "    !zcat {old} | gzip > {new}\n",
    "    !mv -f {new} {old}"
   ]
  },
  {
   "cell_type": "code",
   "execution_count": 0,
   "metadata": {},
   "outputs": [],
   "source": [
    "fixed_counts = df_all[df_all.num_reads==-1].fastq.apply(get_read_num)"
   ]
  },
  {
   "cell_type": "code",
   "execution_count": 0,
   "metadata": {},
   "outputs": [],
   "source": [
    "for f in fixed_counts.index:\n",
    "    df_all.loc[f,\"num_reads\"] = fixed_counts[f]"
   ]
  },
  {
   "cell_type": "code",
   "execution_count": 0,
   "metadata": {},
   "outputs": [],
   "source": [
    "df_all.to_csv(\"/gpfs_fs/home/eckertlab/BURT/seq/burt_fastq_data.txt\", sep=\"\\t\")"
   ]
  },
  {
   "cell_type": "code",
   "execution_count": 0,
   "metadata": {},
   "outputs": [],
   "source": [
    "df_all"
   ]
  },
  {
   "cell_type": "code",
   "execution_count": 0,
   "metadata": {},
   "outputs": [],
   "source": [
    "!cp /gpfs_fs/home/eckertlab/BURT/seq/burt_fastq_data.txt ."
   ]
  },
  {
   "cell_type": "code",
   "execution_count": 0,
   "metadata": {},
   "outputs": [],
   "source": []
  }
 ],
 "metadata": {
  "jupytext": {
   "text_representation": {
    "extension": ".py",
    "format_name": "percent",
    "format_version": "1.2",
    "jupytext_version": "1.1.5"
   }
  },
  "kernelspec": {
   "display_name": "burt",
   "language": "python",
   "name": "burt"
  },
  "language_info": {
   "codemirror_mode": {
    "name": "ipython",
    "version": 3
   },
   "file_extension": ".py",
   "mimetype": "text/x-python",
   "name": "python",
   "nbconvert_exporter": "python",
   "pygments_lexer": "ipython3",
   "version": "3.7.1"
  }
 },
 "nbformat": 4,
 "nbformat_minor": 2
}

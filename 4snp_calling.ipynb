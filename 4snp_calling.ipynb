{
 "cells": [
  {
   "cell_type": "code",
   "execution_count": 0,
   "metadata": {
    "ExecuteTime": {},
    "collapsed": false,
    "scrolled": true
   },
   "outputs": [],
   "source": [
    "import sys\n",
    "\n",
    "sys.path.append(\"../include_utils/\")\n",
    "import ipyparallel as ipp\n",
    "import os, time\n",
    "import include_utils as u\n",
    "import pandas as pd\n",
    "import numpy as np\n",
    "import scipy as sp\n",
    "import numbers\n",
    "import matplotlib.pyplot as plt\n",
    "import matplotlib.patches as mpatches\n",
    "import matplotlib.cm as cm\n",
    "import matplotlib.colors as mcolors\n",
    "import vcf\n",
    "from sklearn import preprocessing\n",
    "from subprocess import Popen, PIPE, STDOUT, check_output, call\n",
    "import seaborn as sns\n",
    "from IPython.display import FileLink\n",
    "import urllib.request as urllib2\n",
    "import dill\n",
    "import traceback\n",
    "from pandas import Series, DataFrame\n",
    "import gzip\n",
    "import warnings\n",
    "warnings.filterwarnings('ignore',category=pd.io.pytables.PerformanceWarning)\n",
    "%config InlineBackend.figure_format = 'retina'\n",
    "from Bio import SeqIO\n",
    "import pysam\n",
    "from collections import OrderedDict, namedtuple\n",
    "import operator\n",
    "import multiprocessing as mp\n",
    "import glob\n",
    "import tempfile\n",
    "from ipyparallel import Client"
   ]
  },
  {
   "cell_type": "code",
   "execution_count": 0,
   "metadata": {
    "ExecuteTime": {},
    "collapsed": false
   },
   "outputs": [],
   "source": [
    "cd \"~/eckertlab/projects/burt/seq/dedupe/\""
   ]
  },
  {
   "cell_type": "code",
   "execution_count": 0,
   "metadata": {
    "ExecuteTime": {},
    "collapsed": true
   },
   "outputs": [],
   "source": [
    "bam_dir = \".\"\n",
    "analysis_dir = os.path.join(bam_dir, \"samtools1.3\")\n",
    "if not os.path.exists(analysis_dir):\n",
    "    os.makedirs(analysis_dir)\n",
    "assert os.path.exists(analysis_dir)"
   ]
  },
  {
   "cell_type": "code",
   "execution_count": 0,
   "metadata": {
    "ExecuteTime": {},
    "collapsed": false
   },
   "outputs": [],
   "source": [
    "bam_files = !ls *mapped.bam\n",
    "bam_files = [os.path.abspath(x) for x in bam_files]"
   ]
  },
  {
   "cell_type": "code",
   "execution_count": 0,
   "metadata": {
    "ExecuteTime": {},
    "collapsed": false
   },
   "outputs": [],
   "source": [
    "len(bam_files) == 768"
   ]
  },
  {
   "cell_type": "code",
   "execution_count": 0,
   "metadata": {
    "ExecuteTime": {},
    "collapsed": true
   },
   "outputs": [],
   "source": [
    "samtools = \"/home/cfriedline/bin/samtools\"\n",
    "bcftools = \"/home/cfriedline/bin/bcftools\"\n",
    "picard = \"/home/cfriedline/gpfs/src/broadinstitute-picard-03a1d72/dist/picard.jar\"\n",
    "java = \"/home/cfriedline/g/src/jdk1.8.0_92/bin/java\"\n",
    "perl = \"/home/cfriedline/gpfs/opt/ActivePerl-5.18/bin/perl\""
   ]
  },
  {
   "cell_type": "code",
   "execution_count": 0,
   "metadata": {
    "ExecuteTime": {},
    "collapsed": false
   },
   "outputs": [],
   "source": [
    "assembly = \"/gpfs_fs/home/eckertlab/projects/burt/seq/dedupe/conitgs.fa_mapped.fasta\""
   ]
  },
  {
   "cell_type": "code",
   "execution_count": 0,
   "metadata": {
    "ExecuteTime": {},
    "collapsed": false
   },
   "outputs": [],
   "source": [
    "!$samtools faidx {assembly}"
   ]
  },
  {
   "cell_type": "code",
   "execution_count": 0,
   "metadata": {
    "ExecuteTime": {},
    "collapsed": false
   },
   "outputs": [],
   "source": [
    "def create_split_beds(nodes, bed):\n",
    "    lines = 0\n",
    "    for line in open(bed):\n",
    "        lines += 1\n",
    "    print(lines, lines//nodes)\n",
    "    per_bed = lines//nodes\n",
    "    cmd = \"split -a 3 -d -l %d %s contig.bed.\" % (per_bed, bed)\n",
    "    call(cmd.split())\n",
    "create_split_beds(150, \"contigs.bed\")"
   ]
  },
  {
   "cell_type": "code",
   "execution_count": 0,
   "metadata": {
    "ExecuteTime": {},
    "collapsed": true
   },
   "outputs": [],
   "source": [
    "beds = !ls contig.bed.*\n",
    "beds = [os.path.abspath(x) for x in beds]"
   ]
  },
  {
   "cell_type": "code",
   "execution_count": 0,
   "metadata": {
    "ExecuteTime": {},
    "collapsed": false
   },
   "outputs": [],
   "source": [
    "rc = u.get_client(profile=\"sge\")"
   ]
  },
  {
   "cell_type": "code",
   "execution_count": 0,
   "metadata": {
    "ExecuteTime": {},
    "collapsed": false
   },
   "outputs": [],
   "source": [
    "dv, lv = u.get_views(rc)\n",
    "len(dv)"
   ]
  },
  {
   "cell_type": "code",
   "execution_count": 0,
   "metadata": {
    "ExecuteTime": {},
    "collapsed": false
   },
   "outputs": [],
   "source": [
    "with dv.sync_imports():\n",
    "    from subprocess import Popen, PIPE, STDOUT, check_output, call\n",
    "    import os, sys, socket, glob, tempfile, shutil"
   ]
  },
  {
   "cell_type": "code",
   "execution_count": 0,
   "metadata": {
    "ExecuteTime": {},
    "collapsed": false
   },
   "outputs": [],
   "source": [
    "def create_parallel_bams(args):\n",
    "    samtools, bam_file, bed_file = args\n",
    "    num = bed_file.split(\".\")[-1]\n",
    "    out = \"%s.%s\" % (bam_file, num)\n",
    "    t = tempfile.NamedTemporaryFile(delete=False, dir=\"/tmp\")\n",
    "    cmd = \"%s view -L %s -b %s -o %s\" % (samtools, bed_file, bam_file, t.name)\n",
    "    call(cmd.split())\n",
    "    shutil.copy(t.name, out)\n",
    "    os.remove(t.name)\n",
    "    return out"
   ]
  },
  {
   "cell_type": "code",
   "execution_count": 0,
   "metadata": {
    "ExecuteTime": {},
    "collapsed": true
   },
   "outputs": [],
   "source": [
    "dv['create_parallel_bams'] = create_parallel_bams"
   ]
  },
  {
   "cell_type": "code",
   "execution_count": 0,
   "metadata": {
    "ExecuteTime": {},
    "collapsed": false
   },
   "outputs": [],
   "source": [
    "jobs = []\n",
    "args = []\n",
    "for bam in bam_files:\n",
    "    for bed in beds:\n",
    "        a = [samtools, bam, bed]\n",
    "        args.append(a)"
   ]
  },
  {
   "cell_type": "code",
   "execution_count": 0,
   "metadata": {
    "collapsed": true
   },
   "outputs": [],
   "source": []
  },
  {
   "cell_type": "code",
   "execution_count": 0,
   "metadata": {
    "ExecuteTime": {},
    "collapsed": false
   },
   "outputs": [],
   "source": [
    "len(bam_files), len(bam_files)*len(beds)"
   ]
  },
  {
   "cell_type": "code",
   "execution_count": 0,
   "metadata": {
    "ExecuteTime": {},
    "collapsed": false
   },
   "outputs": [],
   "source": [
    "jobs = dv.map_async(create_parallel_bams, args)"
   ]
  },
  {
   "cell_type": "code",
   "execution_count": 0,
   "metadata": {
    "ExecuteTime": {},
    "collapsed": false
   },
   "outputs": [],
   "source": [
    "jobs.progress"
   ]
  },
  {
   "cell_type": "markdown",
   "metadata": {},
   "source": [
    "### Move `*.bam.*` and `contig.bed.*` files to `./work`"
   ]
  },
  {
   "cell_type": "code",
   "execution_count": 0,
   "metadata": {
    "ExecuteTime": {},
    "collapsed": false
   },
   "outputs": [],
   "source": [
    "pwd"
   ]
  },
  {
   "cell_type": "code",
   "execution_count": 0,
   "metadata": {
    "ExecuteTime": {},
    "collapsed": true
   },
   "outputs": [],
   "source": [
    "par_bams = !ls *.bam.*"
   ]
  },
  {
   "cell_type": "code",
   "execution_count": 0,
   "metadata": {
    "ExecuteTime": {},
    "collapsed": false
   },
   "outputs": [],
   "source": [
    "len(par_bams)"
   ]
  },
  {
   "cell_type": "code",
   "execution_count": 0,
   "metadata": {
    "ExecuteTime": {},
    "collapsed": false
   },
   "outputs": [],
   "source": [
    "job_map = {}\n",
    "for b in par_bams:\n",
    "    num = b.split(\".\")[-1]\n",
    "    if not num in job_map:\n",
    "        job_map[num] = []\n",
    "    job_map[num].append(b)"
   ]
  },
  {
   "cell_type": "code",
   "execution_count": 0,
   "metadata": {
    "ExecuteTime": {},
    "collapsed": false
   },
   "outputs": [],
   "source": [
    "for num in job_map:\n",
    "    job_map[num] = sorted(job_map[num])\n",
    "    assert len(job_map[num]) == 768"
   ]
  },
  {
   "cell_type": "code",
   "execution_count": 0,
   "metadata": {
    "ExecuteTime": {},
    "collapsed": false
   },
   "outputs": [],
   "source": [
    "snp_args = []\n",
    "for num in sorted(job_map):\n",
    "    bam_files = job_map[num]\n",
    "    bed_file = \"contig.bed.%s\" % num\n",
    "    a = (samtools,\n",
    "         bed_file,\n",
    "         assembly, \n",
    "         bam_files, \n",
    "         bcftools, \n",
    "         \"samtools_1.3.vcf.gz.%s\" % num, \n",
    "         'samtools1.3')\n",
    "    snp_args.append(a)"
   ]
  },
  {
   "cell_type": "code",
   "execution_count": 0,
   "metadata": {
    "ExecuteTime": {},
    "collapsed": false
   },
   "outputs": [],
   "source": [
    "snp_args[0]"
   ]
  },
  {
   "cell_type": "code",
   "execution_count": 0,
   "metadata": {
    "ExecuteTime": {},
    "collapsed": false
   },
   "outputs": [],
   "source": [
    "def call_snps(args):\n",
    "    import socket, os, stopwatch\n",
    "    #print(socket.gethostname())\n",
    "    timer = stopwatch.Timer()\n",
    "    samtools, bed, reference, bam_sorted, bcftools, raw_vcf, out_dir = args \n",
    "    if not out_dir:\n",
    "        out_dir = os.environ['TMPDIR']\n",
    "    raw_vcf = os.path.join(out_dir, os.path.basename(raw_vcf))\n",
    "    pileup = \"%s mpileup -t DP,AD,ADF,ADR,SP,INFO/AD,INFO/ADF,INFO/ADR -Iugf %s %s | %s call -f GP,GQ -vmO z -o %s\" % (samtools, \n",
    "                                                                     reference, \n",
    "                                                                     ' '.join(bam_sorted), \n",
    "                                                                     bcftools,                                                                \n",
    "                                                                     raw_vcf) \n",
    "    \n",
    "    #print(pileup)\n",
    "    #!$pileup\n",
    "    timer.stop()\n",
    "    return pileup, timer.elapsed"
   ]
  },
  {
   "cell_type": "code",
   "execution_count": 0,
   "metadata": {
    "ExecuteTime": {},
    "collapsed": false
   },
   "outputs": [],
   "source": [
    "cmds = []\n",
    "for a in snp_args:\n",
    "    cmds.append(call_snps(a)[0])"
   ]
  },
  {
   "cell_type": "code",
   "execution_count": 0,
   "metadata": {
    "ExecuteTime": {},
    "collapsed": false,
    "scrolled": false
   },
   "outputs": [],
   "source": [
    "with open(\"jobs.sh\", \"w\") as j:\n",
    "    j.write(\"#!/bin/bash\\n\")\n",
    "    for i, a in enumerate(snp_args):\n",
    "        scr = \"run%d.sh\" % i\n",
    "        j.write(\"qsub %s\\n\" % scr)\n",
    "        with open(scr, \"w\") as o:\n",
    "            header = \"\"\"#!/bin/bash\n",
    "\n",
    "#$ -S /bin/bash\n",
    "#$ -N psnp%d\n",
    "#$ -cwd\n",
    "#$ -V\n",
    "#$ -o /gpfs_fs/home/eckertlab/projects/burt/seq/dedupe/work/samtools1.3/psnp%d.out\n",
    "#$ -e /gpfs_fs/home/eckertlab/projects/burt/seq/dedupe/work/samtools1.3/psnp%d.err\n",
    "#$ -q all.q\"\"\" % (i, i, i)\n",
    "            \n",
    "            o.write(\"%s\\n\" % header)\n",
    "            o.write(\"%s\\n\" % call_snps(a)[0])"
   ]
  },
  {
   "cell_type": "markdown",
   "metadata": {},
   "source": [
    "## Run on SGE\n",
    "```bash\n",
    "cd /gpfs_fs/home/eckertlab/projects/burt/seq/dedupe/work\n",
    "chmod +x *.sh\n",
    "./jobs.sh\n",
    "```"
   ]
  },
  {
   "cell_type": "code",
   "execution_count": 0,
   "metadata": {
    "ExecuteTime": {},
    "collapsed": false
   },
   "outputs": [],
   "source": [
    "cd work/samtools1.3/"
   ]
  },
  {
   "cell_type": "code",
   "execution_count": 0,
   "metadata": {
    "ExecuteTime": {},
    "collapsed": true
   },
   "outputs": [],
   "source": [
    "vcfs = !ls samtools_1.3.vcf.gz.* | grep -v tbi | grep -v sorted\n",
    "vcfs = [os.path.abspath(x) for x in vcfs]"
   ]
  },
  {
   "cell_type": "code",
   "execution_count": 0,
   "metadata": {
    "ExecuteTime": {},
    "collapsed": true
   },
   "outputs": [],
   "source": [
    "perl = \"/home/cfriedline/gpfs/opt/ActivePerl-5.18/bin/perl\"\n",
    "vcf_concat = \"{} /home/cfriedline/g/src/vcftools-0.1.14/src/perl/vcf-concat\".format(perl)\n",
    "vcf_sort = \"{} /home/cfriedline/g/src/vcftools-0.1.14/src/perl/vcf-sort\".format(perl)\n",
    "bgzip = \"/home/cfriedline/g/src/htslib-1.3/bgzip\"\n",
    "tabix = \"/home/cfriedline/g/src/htslib-1.3/tabix\""
   ]
  },
  {
   "cell_type": "markdown",
   "metadata": {},
   "source": [
    "### index parallel vcf files\n",
    "\n",
    "```\n",
    "$ tabix --version                                                                                                       \n",
    "tabix (htslib) 1.3.1                                                                                                     \n",
    "Copyright (C) 2016 Genome Research Ltd.\n",
    "```\n",
    "\n",
    "```\n",
    "cd /gpfs_fs/home/eckertlab/projects/burt/seq/dedupe/work/samtools1.3\n",
    "ls samtools_1.3.vcf.* | parallel --bar tabix -f {}\n",
    "```"
   ]
  },
  {
   "cell_type": "code",
   "execution_count": 0,
   "metadata": {
    "ExecuteTime": {},
    "collapsed": false
   },
   "outputs": [],
   "source": [
    "pwd"
   ]
  },
  {
   "cell_type": "code",
   "execution_count": 0,
   "metadata": {
    "ExecuteTime": {},
    "collapsed": false
   },
   "outputs": [],
   "source": [
    "with open(\"concat2.sh\", \"w\") as o:\n",
    "    o.write(\"{} concat --threads 50 -Oz -o concat2.vcf.gz {}\\n\".format(bcftools, \" \".join(vcfs)))"
   ]
  },
  {
   "cell_type": "markdown",
   "metadata": {},
   "source": [
    "### concatenate vcf files\n",
    "\n",
    "```\n",
    "cd /gpfs_fs/home/eckertlab/projects/burt/seq/dedupe/work/samtools1.3\n",
    "chmod +x concat2.sh\n",
    "./concat2.sh\n",
    "```\n",
    "\n",
    "### sort concat file\n",
    "```\n",
    "vcf-sort concat2.vcf.gz > concat2_sorted.vcf.gz\n",
    "```"
   ]
  },
  {
   "cell_type": "code",
   "execution_count": 0,
   "metadata": {
    "collapsed": true
   },
   "outputs": [],
   "source": []
  }
 ],
 "metadata": {
  "kernelspec": {
   "display_name": "Python 3",
   "language": "python",
   "name": "python3"
  },
  "language_info": {
   "codemirror_mode": {
    "name": "ipython",
    "version": 3
   },
   "file_extension": ".py",
   "mimetype": "text/x-python",
   "name": "python",
   "nbconvert_exporter": "python",
   "pygments_lexer": "ipython3",
   "version": "3.7.0"
  }
 },
 "nbformat": 4,
 "nbformat_minor": 2
}

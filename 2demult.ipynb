{
 "cells": [
  {
   "cell_type": "code",
   "execution_count": 0,
   "metadata": {
    "ExecuteTime": {},
    "collapsed": false
   },
   "outputs": [],
   "source": [
    "import os, sys\n",
    "sys.path.append(\"/home/cfriedline/ipynb/include_utils\")\n",
    "import include_utils as u\n",
    "import gzip\n",
    "import shutil\n",
    "import tempfile\n",
    "from ipyparallel import Client\n",
    "import scandir\n",
    "import glob"
   ]
  },
  {
   "cell_type": "code",
   "execution_count": 0,
   "metadata": {
    "ExecuteTime": {},
    "collapsed": false
   },
   "outputs": [],
   "source": [
    "rc = Client(profile=\"sge\")"
   ]
  },
  {
   "cell_type": "code",
   "execution_count": 0,
   "metadata": {
    "ExecuteTime": {},
    "collapsed": false
   },
   "outputs": [],
   "source": [
    "dview = rc[:]\n",
    "lview = rc.load_balanced_view()\n",
    "len(dview)"
   ]
  },
  {
   "cell_type": "code",
   "execution_count": 0,
   "metadata": {
    "ExecuteTime": {},
    "collapsed": false
   },
   "outputs": [],
   "source": [
    "rootdir = \"/home/cfriedline/eckertlab/projects/burt/seq\""
   ]
  },
  {
   "cell_type": "code",
   "execution_count": 0,
   "metadata": {
    "ExecuteTime": {},
    "collapsed": false
   },
   "outputs": [],
   "source": [
    "# organize files for demultiplexing with GBSX\n",
    "for seqdir in ['160525', '160520']:\n",
    "    os.chdir('{}/{}'.format(rootdir, seqdir))\n",
    "    for i in range(8):\n",
    "        d = \"Burt{}\".format(i)\n",
    "        if not os.path.exists(d):\n",
    "            os.mkdir(d)\n",
    "        f = glob.glob(\"{}*.gz\".format(d))\n",
    "        if f:\n",
    "            assert len(f) == 1\n",
    "            shutil.move(f[0], d)"
   ]
  },
  {
   "cell_type": "code",
   "execution_count": 0,
   "metadata": {
    "ExecuteTime": {},
    "collapsed": false
   },
   "outputs": [],
   "source": [
    "cd ~/eckertlab/projects/burt/seq"
   ]
  },
  {
   "cell_type": "code",
   "execution_count": 0,
   "metadata": {
    "ExecuteTime": {},
    "collapsed": false
   },
   "outputs": [],
   "source": [
    "src_files = []\n",
    "for seqdir in ['160525', '160520']:\n",
    "    os.chdir('{}/{}'.format(rootdir, seqdir))\n",
    "    files = !find . -name 'Burt*.gz'\n",
    "    files = [os.path.abspath(x) for x in files]\n",
    "    for x in files:\n",
    "        src_files.append(x)\n",
    "src_files = sorted(src_files)"
   ]
  },
  {
   "cell_type": "code",
   "execution_count": 0,
   "metadata": {
    "ExecuteTime": {},
    "collapsed": false
   },
   "outputs": [],
   "source": [
    "def build_cmd(fastq, bc):\n",
    "    cmd = \"/home/cfriedline/g/src/jdk1.8.0_92/bin/java -jar /home/cfriedline/g/src/GBSX/GBSX_v1.2.jar --Demultiplexer\"\n",
    "    return \"{} -f1 {} -i {} -gzip true -rad true -mb 2\".format(cmd, fastq, bc)\n",
    "\n",
    "def write_qsub(workdir, cmd, label):\n",
    "    with open(os.path.join(workdir, \"run.sh\"), \"w\") as o:\n",
    "        o.write(\"\"\"#!/bin/bash\n",
    "#$ -N gbsx{0}\n",
    "#$ -cwd\n",
    "#$ -V\n",
    "#$ -S /bin/bash\n",
    "#$ -e gbsx{0}.err\n",
    "#$ -o gbsx{0}.out\n",
    "cd {1}\n",
    "{2}\n",
    "\"\"\".format(label, workdir, cmd))\n",
    "\n",
    "for s in src_files:\n",
    "    label = os.path.basename(s).split(\"Burt\")[1].split(\"_\")[0]\n",
    "    bc_file = os.path.join(rootdir, \"barcode_{}_gbsx.txt\".format(label))\n",
    "    workdir = os.path.dirname(s)\n",
    "    cmd = build_cmd(s, bc_file)\n",
    "    write_qsub(workdir, cmd, label)"
   ]
  },
  {
   "cell_type": "code",
   "execution_count": 0,
   "metadata": {
    "ExecuteTime": {},
    "collapsed": false
   },
   "outputs": [],
   "source": [
    "cd $rootdir"
   ]
  },
  {
   "cell_type": "markdown",
   "metadata": {},
   "source": [
    "### Submit jobs to SGE\n",
    "```\n",
    "cd /gpfs_fs/home/eckertlab/projects/burt/seq\n",
    "find . -name \"run.sh\" | xargs chmod +x\n",
    "find . -name \"run.sh\" -exec qsub {} \\;\n",
    "```"
   ]
  },
  {
   "cell_type": "code",
   "execution_count": 0,
   "metadata": {
    "collapsed": true
   },
   "outputs": [],
   "source": []
  }
 ],
 "metadata": {
  "kernelspec": {
   "display_name": "Python 3",
   "language": "python",
   "name": "python3"
  },
  "language_info": {
   "codemirror_mode": {
    "name": "ipython",
    "version": 3
   },
   "file_extension": ".py",
   "mimetype": "text/x-python",
   "name": "python",
   "nbconvert_exporter": "python",
   "pygments_lexer": "ipython3",
   "version": "3.4.4"
  }
 },
 "nbformat": 4,
 "nbformat_minor": 0
}

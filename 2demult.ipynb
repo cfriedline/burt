{
 "cells": [
  {
   "cell_type": "code",
   "execution_count": 0,
   "metadata": {
    "ExecuteTime": {},
    "collapsed": false
   },
   "outputs": [],
   "source": [
    "import os, sys\n",
    "sys.path.append(\"/home/cfriedline/ipynb/include_utils\")\n",
    "import include_utils as u\n",
    "import gzip\n",
    "import shutil\n",
    "import tempfile\n",
    "from ipyparallel import Client\n",
    "import scandir\n",
    "import glob\n",
    "from Bio.SeqIO.QualityIO import FastqGeneralIterator\n",
    "import pickle\n",
    "import Levenshtein as lv\n",
    "from Bio import SeqIO\n",
    "from subprocess import Popen, PIPE, call, check_output\n",
    "import numpy as np"
   ]
  },
  {
   "cell_type": "code",
   "execution_count": 0,
   "metadata": {
    "ExecuteTime": {},
    "collapsed": false
   },
   "outputs": [],
   "source": [
    "rc = Client(profile=\"sge\")"
   ]
  },
  {
   "cell_type": "code",
   "execution_count": 0,
   "metadata": {
    "ExecuteTime": {},
    "collapsed": false
   },
   "outputs": [],
   "source": [
    "dview = rc[:]\n",
    "lview = rc.load_balanced_view()\n",
    "len(dview)"
   ]
  },
  {
   "cell_type": "code",
   "execution_count": 0,
   "metadata": {
    "ExecuteTime": {},
    "collapsed": false
   },
   "outputs": [],
   "source": [
    "rootdir = \"/home/cfriedline/eckertlab/projects/burt/seq\""
   ]
  },
  {
   "cell_type": "code",
   "execution_count": 0,
   "metadata": {
    "ExecuteTime": {},
    "collapsed": false
   },
   "outputs": [],
   "source": [
    "# organize files for demultiplexing with GBSX\n",
    "for seqdir in ['160525', '160520']:\n",
    "    os.chdir('{}/{}'.format(rootdir, seqdir))\n",
    "    for i in range(8):\n",
    "        d = \"Burt{}\".format(i)\n",
    "        if not os.path.exists(d):\n",
    "            os.mkdir(d)\n",
    "        f = glob.glob(\"{}*.gz\".format(d))\n",
    "        if f:\n",
    "            assert len(f) == 1\n",
    "            shutil.move(f[0], d)"
   ]
  },
  {
   "cell_type": "code",
   "execution_count": 0,
   "metadata": {
    "ExecuteTime": {},
    "collapsed": false
   },
   "outputs": [],
   "source": [
    "cd $rootdir"
   ]
  },
  {
   "cell_type": "code",
   "execution_count": 0,
   "metadata": {
    "ExecuteTime": {},
    "collapsed": false
   },
   "outputs": [],
   "source": [
    "src_files = []\n",
    "for seqdir in ['160525', '160520']:\n",
    "    os.chdir('{}/{}'.format(rootdir, seqdir))\n",
    "    files = !find . -name 'Burt*.gz'\n",
    "    files = [os.path.abspath(x) for x in files]\n",
    "    for x in files:\n",
    "        src_files.append(x)\n",
    "src_files = sorted(src_files)"
   ]
  },
  {
   "cell_type": "code",
   "execution_count": 0,
   "metadata": {
    "ExecuteTime": {},
    "collapsed": false
   },
   "outputs": [],
   "source": [
    "src_files"
   ]
  },
  {
   "cell_type": "code",
   "execution_count": 0,
   "metadata": {
    "ExecuteTime": {},
    "collapsed": false
   },
   "outputs": [],
   "source": [
    "#repair beginning Ns before mapping\n",
    "def check_bc(seq, bc_len):\n",
    "    bc = seq[0:bc_len]\n",
    "    print(bc_len, bc)\n",
    "    min_dist = 100\n",
    "    min_bc = None\n",
    "    for b in bc_lens[bc_len]:\n",
    "        dist = lv.hamming(b, bc)\n",
    "        if dist < min_dist:\n",
    "            min_dist = dist\n",
    "            min_bc = b\n",
    "    return bc_len, min_dist, min_bc\n",
    "\n",
    "def convert_ascii(qual):\n",
    "    return [(ord(x)-33) for x in qual]\n",
    "\n",
    "for s in src_files:\n",
    "    print(s)\n",
    "    for name, seq, qual in FastqGeneralIterator(gzip.open(s, \"rt\")):\n",
    "        if seq.startswith(\"N\"):\n",
    "            print(seq)\n",
    "            print(qual)\n",
    "            \n",
    "            res = []\n",
    "            for i in range(8, 11):\n",
    "                res.append(check_bc(seq, i))\n",
    "            res = sorted(res, key=lambda x: x[1])\n",
    "            print(res)\n",
    "            seq2 = res[0][2] + seq[res[0][0]:]\n",
    "            qual2 = \"I\"+qual[1:] #I = ASCII 73\n",
    "            print(seq2)\n",
    "            print(qual2)\n",
    "            print(convert_ascii(qual2))\n",
    "            break\n",
    "    break"
   ]
  },
  {
   "cell_type": "code",
   "execution_count": 0,
   "metadata": {
    "ExecuteTime": {},
    "collapsed": false
   },
   "outputs": [],
   "source": [
    "for s in src_files:\n",
    "    print(s)\n",
    "    for rec in SeqIO.parse(gzip.open(s, \"rt\"), \"fastq\"):\n",
    "        print(rec)\n",
    "        print(rec.letter_annotations)\n",
    "        break\n",
    "    break"
   ]
  },
  {
   "cell_type": "code",
   "execution_count": 0,
   "metadata": {
    "ExecuteTime": {},
    "collapsed": false
   },
   "outputs": [],
   "source": [
    "def build_gbsx_cmd(fastq, bc, enz):\n",
    "    cmd = \"/home/cfriedline/g/src/jdk1.8.0_92/bin/java -jar /home/cfriedline/g/src/GBSX/GBSX_v1.2.jar --Demultiplexer\"\n",
    "    return \"{} -f1 {} -i {} -gzip true -rad true -mb 2 -me 1 -ea {}\".format(cmd, fastq, bc, enz), \"gbsx\"\n",
    "\n",
    "def write_qsub(workdir, cmd, label, run, cmd_label):\n",
    "    with open(os.path.join(workdir, \"run_{}.sh\".format(cmd_label)), \"w\") as o:\n",
    "        o.write(\"\"\"#!/bin/bash\n",
    "#$ -N {4}{0}\n",
    "#$ -cwd\n",
    "#$ -V\n",
    "#$ -S /bin/bash\n",
    "#$ -e {4}_{3}_burt_{0}.err\n",
    "#$ -o {4}_{3}_burt_{0}.out\n",
    "cd {1}\n",
    "{2}\n",
    "\"\"\".format(label, workdir, cmd, run, cmd_label))\n",
    "\n",
    "for s in src_files:\n",
    "    run = os.path.basename(os.path.dirname(os.path.dirname(s)))\n",
    "    label = os.path.basename(s).split(\"Burt\")[1].split(\"_\")[0]\n",
    "    bc_file = os.path.join(rootdir, \"barcode_{}_gbsx.txt\".format(label))\n",
    "    enz_file = os.path.join(rootdir, \"ecori.txt\")\n",
    "    workdir = os.path.dirname(s)\n",
    "    gbsx_cmd, gbsx_label = build_gbsx_cmd(s, bc_file, enz_file)\n",
    "    write_qsub(workdir, gbsx_cmd, label, run, gbsx_label)"
   ]
  },
  {
   "cell_type": "code",
   "execution_count": 0,
   "metadata": {
    "ExecuteTime": {},
    "collapsed": false
   },
   "outputs": [],
   "source": [
    "cd $rootdir"
   ]
  },
  {
   "cell_type": "markdown",
   "metadata": {},
   "source": [
    "### Submit jobs to SGE\n",
    "```\n",
    "cd /gpfs_fs/home/eckertlab/projects/burt/seq\n",
    "find . -name \"run_gbsx.sh\" | xargs chmod +x\n",
    "find . -name \"run_gbsx.sh\" -exec qsub {} \\;\n",
    "```"
   ]
  },
  {
   "cell_type": "code",
   "execution_count": 0,
   "metadata": {
    "ExecuteTime": {},
    "collapsed": false
   },
   "outputs": [],
   "source": [
    "cd $rootdir"
   ]
  },
  {
   "cell_type": "code",
   "execution_count": 0,
   "metadata": {
    "ExecuteTime": {},
    "collapsed": false,
    "scrolled": true
   },
   "outputs": [],
   "source": [
    "fastq_files = !find . -name \"*.fastq.gz\" | grep -v undet\n",
    "fastq_files = [os.path.abspath(x) for x in fastq_files]\n",
    "for s in src_files:\n",
    "    fastq_files.remove(s)\n",
    "len(fastq_files)"
   ]
  },
  {
   "cell_type": "code",
   "execution_count": 0,
   "metadata": {
    "ExecuteTime": {},
    "collapsed": false
   },
   "outputs": [],
   "source": [
    "pwd"
   ]
  },
  {
   "cell_type": "code",
   "execution_count": 0,
   "metadata": {
    "ExecuteTime": {},
    "collapsed": false
   },
   "outputs": [],
   "source": [
    "!mkdir /gpfs_fs/home/eckertlab/projects/burt/seq/dedupe"
   ]
  },
  {
   "cell_type": "code",
   "execution_count": 0,
   "metadata": {
    "ExecuteTime": {},
    "collapsed": false
   },
   "outputs": [],
   "source": [
    "cd dedupe"
   ]
  },
  {
   "cell_type": "code",
   "execution_count": 0,
   "metadata": {
    "ExecuteTime": {},
    "collapsed": false
   },
   "outputs": [],
   "source": [
    "fastq_dict = {}\n",
    "for f in fastq_files:\n",
    "    name = os.path.basename(f)\n",
    "    if not name in fastq_dict:\n",
    "        fastq_dict[name] = []\n",
    "    fastq_dict[name].append(f)"
   ]
  },
  {
   "cell_type": "code",
   "execution_count": 0,
   "metadata": {
    "ExecuteTime": {},
    "collapsed": false
   },
   "outputs": [],
   "source": [
    "assert len(fastq_dict) == 768 # (8 lanes * 96/plate)"
   ]
  },
  {
   "cell_type": "code",
   "execution_count": 0,
   "metadata": {
    "ExecuteTime": {},
    "collapsed": true
   },
   "outputs": [],
   "source": [
    "def combine_fastq(args):\n",
    "    name, fastq_list = args\n",
    "    out_dir = \"/gpfs_fs/home/eckertlab/projects/burt/seq/dedupe\"\n",
    "    out_file = os.path.join(out_dir, name)\n",
    "    cmd = \"zcat {} | /home/cfriedline/bin/bgzip -c > {}\".format(\" \".join(fastq_list), out_file)\n",
    "    return cmd"
   ]
  },
  {
   "cell_type": "code",
   "execution_count": 0,
   "metadata": {
    "ExecuteTime": {},
    "collapsed": false
   },
   "outputs": [],
   "source": [
    "def run_cmd(cmd):\n",
    "    res = !$cmd\n",
    "    return res"
   ]
  },
  {
   "cell_type": "code",
   "execution_count": 0,
   "metadata": {
    "ExecuteTime": {},
    "collapsed": true
   },
   "outputs": [],
   "source": [
    "dview['run_cmd'] = run_cmd\n",
    "dview['combine_fastq'] = combine_fastq"
   ]
  },
  {
   "cell_type": "code",
   "execution_count": 0,
   "metadata": {
    "ExecuteTime": {},
    "collapsed": false
   },
   "outputs": [],
   "source": [
    "with dview.sync_imports():\n",
    "    import os"
   ]
  },
  {
   "cell_type": "code",
   "execution_count": 0,
   "metadata": {
    "ExecuteTime": {},
    "collapsed": false,
    "scrolled": true
   },
   "outputs": [],
   "source": [
    "jobs = []\n",
    "for k, v in fastq_dict.items():\n",
    "    cmd = combine_fastq((k, v))\n",
    "    jobs.append(lview.apply_async(run_cmd, cmd))"
   ]
  },
  {
   "cell_type": "code",
   "execution_count": 0,
   "metadata": {
    "ExecuteTime": {},
    "collapsed": false
   },
   "outputs": [],
   "source": [
    "np.sum([x.ready() for x in jobs])"
   ]
  },
  {
   "cell_type": "code",
   "execution_count": 0,
   "metadata": {
    "ExecuteTime": {},
    "collapsed": false
   },
   "outputs": [],
   "source": [
    "pwd"
   ]
  },
  {
   "cell_type": "code",
   "execution_count": 0,
   "metadata": {
    "ExecuteTime": {},
    "collapsed": false
   },
   "outputs": [],
   "source": [
    "fastq_dedupe = !find '/gpfs_fs/home/eckertlab/projects/burt/seq/dedupe' -name \"*.fastq.gz\""
   ]
  },
  {
   "cell_type": "code",
   "execution_count": 0,
   "metadata": {
    "ExecuteTime": {},
    "collapsed": false
   },
   "outputs": [],
   "source": [
    "len(fastq_dedupe) == 768"
   ]
  },
  {
   "cell_type": "code",
   "execution_count": 0,
   "metadata": {
    "ExecuteTime": {},
    "collapsed": true
   },
   "outputs": [],
   "source": [
    "with open(\"fastq_files.txt\", \"w\") as o:\n",
    "    for f in fastq_dedupe:\n",
    "        o.write(\"{}\\n\".format(f))"
   ]
  },
  {
   "cell_type": "code",
   "execution_count": 0,
   "metadata": {
    "collapsed": true
   },
   "outputs": [],
   "source": []
  }
 ],
 "metadata": {
  "kernelspec": {
   "display_name": "Python 3",
   "language": "python",
   "name": "python3"
  },
  "language_info": {
   "codemirror_mode": {
    "name": "ipython",
    "version": 3
   },
   "file_extension": ".py",
   "mimetype": "text/x-python",
   "name": "python",
   "nbconvert_exporter": "python",
   "pygments_lexer": "ipython3",
   "version": "3.5.2"
  }
 },
 "nbformat": 4,
 "nbformat_minor": 0
}
